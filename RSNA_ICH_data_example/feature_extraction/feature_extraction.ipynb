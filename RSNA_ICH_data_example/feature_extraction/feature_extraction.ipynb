{
 "cells": [
  {
   "cell_type": "markdown",
   "metadata": {},
   "source": [
    "# Kaggle RSNA Intracranial Hemorrhage Detection example"
   ]
  },
  {
   "cell_type": "code",
   "execution_count": 1,
   "metadata": {},
   "outputs": [],
   "source": [
    "from functools import reduce\n",
    "import os\n",
    "import random\n",
    "\n",
    "from matplotlib import pyplot as plt\n",
    "import numpy as np\n",
    "import pandas as pd\n",
    "\n",
    "from features import CNNFeatureExtractor"
   ]
  },
  {
   "cell_type": "code",
   "execution_count": 2,
   "metadata": {},
   "outputs": [
    {
     "data": {
      "text/plain": [
       "'/device:GPU:0'"
      ]
     },
     "execution_count": 2,
     "metadata": {},
     "output_type": "execute_result"
    }
   ],
   "source": [
    "import tensorflow as tf \n",
    "tf.test.gpu_device_name()"
   ]
  },
  {
   "cell_type": "code",
   "execution_count": 3,
   "metadata": {},
   "outputs": [],
   "source": [
    "RANDOM_SEED = 2020\n",
    "DEBUG_MODE = True\n",
    "\n",
    "DATA_BASE_PATH = '/data/'\n",
    "PNG_DIR = 'png_256/'\n",
    "NUM_SUBJ_PER_SPLIT = 50\n",
    "\n",
    "IMG_DIR = DATA_BASE_PATH + PNG_DIR + \"train\"\n",
    "SAVE_DIR = DATA_BASE_PATH + \"png_256_resnet50features/\" + str(NUM_SUBJ_PER_SPLIT) + \"_subj_per_split/\""
   ]
  },
  {
   "cell_type": "markdown",
   "metadata": {},
   "source": [
    "### Define the paths to images"
   ]
  },
  {
   "cell_type": "code",
   "execution_count": 4,
   "metadata": {},
   "outputs": [],
   "source": [
    "file_names = os.listdir(IMG_DIR)"
   ]
  },
  {
   "cell_type": "code",
   "execution_count": 5,
   "metadata": {
    "scrolled": true
   },
   "outputs": [
    {
     "data": {
      "text/plain": [
       "True"
      ]
     },
     "execution_count": 5,
     "metadata": {},
     "output_type": "execute_result"
    }
   ],
   "source": [
    "all([f.endswith(\".png\") for f in file_names])"
   ]
  },
  {
   "cell_type": "code",
   "execution_count": 6,
   "metadata": {},
   "outputs": [
    {
     "name": "stdout",
     "output_type": "stream",
     "text": [
      "There are a total of 752802 images available.\n"
     ]
    }
   ],
   "source": [
    "num_imgs = len(file_names)\n",
    "print(\"There are a total of {} images available.\".format(num_imgs))"
   ]
  },
  {
   "cell_type": "markdown",
   "metadata": {},
   "source": [
    "## Train/test split"
   ]
  },
  {
   "cell_type": "markdown",
   "metadata": {},
   "source": [
    "We will use only a subset of images (less than half), which was pre-specified earlier prior to writing this notebook, such that different images of the same patient do not appear in the training as well as the test datasets."
   ]
  },
  {
   "cell_type": "code",
   "execution_count": 11,
   "metadata": {},
   "outputs": [],
   "source": [
    "train_splits_csv = 'train_splits_' + str(NUM_SUBJ_PER_SPLIT) + '.csv'\n",
    "tmp_df = pd.read_csv(DATA_BASE_PATH + PNG_DIR + train_splits_csv)\n",
    "train_split = list(tmp_df.filename.values)"
   ]
  },
  {
   "cell_type": "code",
   "execution_count": 12,
   "metadata": {},
   "outputs": [],
   "source": [
    "test_splits_csv = 'test_splits_' + str(NUM_SUBJ_PER_SPLIT) + '.csv'\n",
    "tmp_df = pd.read_csv(DATA_BASE_PATH + PNG_DIR + test_splits_csv)\n",
    "test_split = list(tmp_df.filename.values)"
   ]
  },
  {
   "cell_type": "code",
   "execution_count": 13,
   "metadata": {},
   "outputs": [],
   "source": [
    "lockbox_splits_csv = 'lockbox_splits_' + str(NUM_SUBJ_PER_SPLIT) + '.csv'\n",
    "tmp_df = pd.read_csv(DATA_BASE_PATH + PNG_DIR + lockbox_splits_csv)\n",
    "lockbox_split = list(tmp_df.filename.values)"
   ]
  },
  {
   "cell_type": "code",
   "execution_count": 14,
   "metadata": {},
   "outputs": [
    {
     "name": "stdout",
     "output_type": "stream",
     "text": [
      "198543 198381 355878\n"
     ]
    }
   ],
   "source": [
    "print(len(train_split), len(test_split), len(lockbox_split))"
   ]
  },
  {
   "cell_type": "markdown",
   "metadata": {},
   "source": [
    "Here, the training and the test splits contain images (brain CT slices) for `100*NUM_SUBJ_PER_SPLIT` patients each."
   ]
  },
  {
   "cell_type": "markdown",
   "metadata": {},
   "source": [
    "### Extract features.\n",
    "\n",
    "Initialize the feature extractor using the pre-trained ResNet50 model without the last fully connected layer:"
   ]
  },
  {
   "cell_type": "code",
   "execution_count": 15,
   "metadata": {},
   "outputs": [
    {
     "name": "stdout",
     "output_type": "stream",
     "text": [
      "Downloading data from https://storage.googleapis.com/tensorflow/keras-applications/resnet/resnet50_weights_tf_dim_ordering_tf_kernels.h5\n",
      "102973440/102967424 [==============================] - 2s 0us/step: \n"
     ]
    }
   ],
   "source": [
    "feature_extractor = CNNFeatureExtractor(model=\"ResNet50\")"
   ]
  },
  {
   "cell_type": "markdown",
   "metadata": {},
   "source": [
    "Get the test data features:"
   ]
  },
  {
   "cell_type": "code",
   "execution_count": 16,
   "metadata": {
    "scrolled": false
   },
   "outputs": [
    {
     "name": "stdout",
     "output_type": "stream",
     "text": [
      "WARNING:tensorflow:multiprocessing can interact badly with TensorFlow, causing nondeterministic deadlocks. For high performance data pipelines tf.data is recommended.\n",
      "   1/3100 [..............................] - ETA: 0sWARNING:tensorflow:Callbacks method `on_predict_batch_end` is slow compared to the batch time (batch time: 0.0348s vs `on_predict_batch_end` time: 0.0721s). Check your callbacks.\n",
      "3099/3100 [============================>.] - ETA: 0sWARNING:tensorflow:multiprocessing can interact badly with TensorFlow, causing nondeterministic deadlocks. For high performance data pipelines tf.data is recommended.\n",
      "3100/3100 [==============================] - 605s 195ms/step\n"
     ]
    }
   ],
   "source": [
    "features_test, file_names_test = feature_extractor.get_features(\n",
    "    img_dir=IMG_DIR, img_files=test_split, batch_size=64, verbose=1,\n",
    "    workers=8, use_multiprocessing=True\n",
    ")"
   ]
  },
  {
   "cell_type": "code",
   "execution_count": 17,
   "metadata": {
    "scrolled": true
   },
   "outputs": [
    {
     "name": "stdout",
     "output_type": "stream",
     "text": [
      "(198381, 2048)\n"
     ]
    }
   ],
   "source": [
    "print(features_test.shape)"
   ]
  },
  {
   "cell_type": "markdown",
   "metadata": {},
   "source": [
    "Get the training data features (notice that we do not need to re-initialize the feature extraction model):"
   ]
  },
  {
   "cell_type": "code",
   "execution_count": 18,
   "metadata": {
    "scrolled": false
   },
   "outputs": [
    {
     "name": "stdout",
     "output_type": "stream",
     "text": [
      "WARNING:tensorflow:multiprocessing can interact badly with TensorFlow, causing nondeterministic deadlocks. For high performance data pipelines tf.data is recommended.\n",
      "6203/6205 [============================>.] - ETA: 0sWARNING:tensorflow:multiprocessing can interact badly with TensorFlow, causing nondeterministic deadlocks. For high performance data pipelines tf.data is recommended.\n",
      "6205/6205 [==============================] - 631s 102ms/step\n"
     ]
    }
   ],
   "source": [
    "features_train, file_names_train = feature_extractor.get_features(\n",
    "    img_dir=IMG_DIR, img_files=train_split, batch_size=32, verbose=1, workers=8, use_multiprocessing=True\n",
    ")"
   ]
  },
  {
   "cell_type": "code",
   "execution_count": 19,
   "metadata": {
    "scrolled": true
   },
   "outputs": [
    {
     "name": "stdout",
     "output_type": "stream",
     "text": [
      "(198543, 2048)\n"
     ]
    }
   ],
   "source": [
    "print(features_train.shape)"
   ]
  },
  {
   "cell_type": "markdown",
   "metadata": {},
   "source": [
    "Get the lockbox data features. It runs out of GPU memory if we do all images at once. So, we split the lockbox data into 10 parts for processing."
   ]
  },
  {
   "cell_type": "code",
   "execution_count": 20,
   "metadata": {
    "scrolled": false
   },
   "outputs": [
    {
     "name": "stdout",
     "output_type": "stream",
     "text": [
      "WARNING:tensorflow:multiprocessing can interact badly with TensorFlow, causing nondeterministic deadlocks. For high performance data pipelines tf.data is recommended.\n",
      "1112/1113 [============================>.] - ETA: 0sWARNING:tensorflow:multiprocessing can interact badly with TensorFlow, causing nondeterministic deadlocks. For high performance data pipelines tf.data is recommended.\n",
      "1113/1113 [==============================] - 123s 111ms/step\n",
      "WARNING:tensorflow:multiprocessing can interact badly with TensorFlow, causing nondeterministic deadlocks. For high performance data pipelines tf.data is recommended.\n",
      "1113/1113 [==============================] - 109s 98ms/step\n",
      "WARNING:tensorflow:multiprocessing can interact badly with TensorFlow, causing nondeterministic deadlocks. For high performance data pipelines tf.data is recommended.\n",
      "1113/1113 [==============================] - 109s 98ms/step\n",
      "WARNING:tensorflow:multiprocessing can interact badly with TensorFlow, causing nondeterministic deadlocks. For high performance data pipelines tf.data is recommended.\n",
      "1113/1113 [==============================] - 110s 98ms/step\n",
      "WARNING:tensorflow:multiprocessing can interact badly with TensorFlow, causing nondeterministic deadlocks. For high performance data pipelines tf.data is recommended.\n",
      "1112/1113 [============================>.] - ETA: 0sWARNING:tensorflow:multiprocessing can interact badly with TensorFlow, causing nondeterministic deadlocks. For high performance data pipelines tf.data is recommended.\n",
      "1113/1113 [==============================] - 110s 99ms/step\n",
      "WARNING:tensorflow:multiprocessing can interact badly with TensorFlow, causing nondeterministic deadlocks. For high performance data pipelines tf.data is recommended.\n",
      "1113/1113 [==============================] - 108s 97ms/step\n",
      "WARNING:tensorflow:multiprocessing can interact badly with TensorFlow, causing nondeterministic deadlocks. For high performance data pipelines tf.data is recommended.\n",
      "1113/1113 [==============================] - 110s 98ms/step\n",
      "WARNING:tensorflow:multiprocessing can interact badly with TensorFlow, causing nondeterministic deadlocks. For high performance data pipelines tf.data is recommended.\n",
      "1113/1113 [==============================] - 109s 98ms/step\n",
      "WARNING:tensorflow:multiprocessing can interact badly with TensorFlow, causing nondeterministic deadlocks. For high performance data pipelines tf.data is recommended.\n",
      "1113/1113 [==============================] - 110s 99ms/step\n",
      "WARNING:tensorflow:multiprocessing can interact badly with TensorFlow, causing nondeterministic deadlocks. For high performance data pipelines tf.data is recommended.\n",
      "1112/1113 [============================>.] - ETA: 0sWARNING:tensorflow:multiprocessing can interact badly with TensorFlow, causing nondeterministic deadlocks. For high performance data pipelines tf.data is recommended.\n",
      "1113/1113 [==============================] - 110s 99ms/step\n"
     ]
    }
   ],
   "source": [
    "n_parts = 10\n",
    "m = len(lockbox_split) // n_parts\n",
    "features_lockbox = [None for _ in range(n_parts)]\n",
    "file_names_lockbox = [None for _ in range(n_parts)]\n",
    "\n",
    "for i in range(n_parts):\n",
    "    if i == n_parts-1:\n",
    "        s = lockbox_split[(i*m):]\n",
    "    else:\n",
    "        s = lockbox_split[(i*m):((i+1)*m)]\n",
    "    features_lockbox[i], file_names_lockbox[i] = feature_extractor.get_features(\n",
    "        img_dir=IMG_DIR, img_files=s, batch_size=32,\n",
    "        verbose=1, workers=8, use_multiprocessing=True\n",
    "    )"
   ]
  },
  {
   "cell_type": "code",
   "execution_count": 21,
   "metadata": {},
   "outputs": [
    {
     "name": "stdout",
     "output_type": "stream",
     "text": [
      "[(35587, 2048), (35587, 2048), (35587, 2048), (35587, 2048), (35587, 2048), (35587, 2048), (35587, 2048), (35587, 2048), (35587, 2048), (35595, 2048)]\n",
      "355878\n"
     ]
    }
   ],
   "source": [
    "tmp = [features_lockbox[i].shape for i in range(n_parts)]\n",
    "print(tmp)\n",
    "print(np.sum([s[0] for s in tmp]))"
   ]
  },
  {
   "cell_type": "code",
   "execution_count": 22,
   "metadata": {},
   "outputs": [
    {
     "name": "stdout",
     "output_type": "stream",
     "text": [
      "(355878, 2048)\n"
     ]
    }
   ],
   "source": [
    "features_lockbox = np.concatenate(features_lockbox, axis=0)\n",
    "print(features_lockbox.shape)"
   ]
  },
  {
   "cell_type": "code",
   "execution_count": 23,
   "metadata": {},
   "outputs": [
    {
     "data": {
      "text/plain": [
       "(351976, 2048)"
      ]
     },
     "execution_count": 23,
     "metadata": {},
     "output_type": "execute_result"
    }
   ],
   "source": [
    "np.unique(features_lockbox, axis=0).shape"
   ]
  },
  {
   "cell_type": "code",
   "execution_count": 24,
   "metadata": {},
   "outputs": [
    {
     "data": {
      "text/plain": [
       "(355878, 1970)"
      ]
     },
     "execution_count": 24,
     "metadata": {},
     "output_type": "execute_result"
    }
   ],
   "source": [
    "np.unique(features_lockbox, axis=1).shape"
   ]
  },
  {
   "cell_type": "code",
   "execution_count": 25,
   "metadata": {},
   "outputs": [
    {
     "name": "stdout",
     "output_type": "stream",
     "text": [
      "355878\n",
      "(355878,)\n"
     ]
    }
   ],
   "source": [
    "file_names_lockbox_backup = file_names_lockbox\n",
    "file_names_lockbox = reduce(lambda x, y: x+y, file_names_lockbox)\n",
    "print(len(file_names_lockbox))\n",
    "print(np.unique(file_names_lockbox).shape)"
   ]
  },
  {
   "cell_type": "markdown",
   "metadata": {},
   "source": [
    "Save the resulting features:"
   ]
  },
  {
   "cell_type": "code",
   "execution_count": 27,
   "metadata": {},
   "outputs": [
    {
     "name": "stdout",
     "output_type": "stream",
     "text": [
      "/data/png_256_resnet50features/50_subj_per_split/\n"
     ]
    }
   ],
   "source": [
    "print(SAVE_DIR)\n",
    "\n",
    "with open(SAVE_DIR + \"features_train.npy\", \"wb\") as f:\n",
    "    np.save(f, features_train)\n",
    "    np.save(f, file_names_train)\n",
    "    \n",
    "with open(SAVE_DIR + \"features_test.npy\", \"wb\") as f:\n",
    "    np.save(f, features_test)\n",
    "    np.save(f, file_names_test)\n",
    "    \n",
    "with open(SAVE_DIR + \"features_lockbox.npy\", \"wb\") as f:\n",
    "    np.save(f, features_lockbox)\n",
    "    np.save(f, file_names_lockbox)"
   ]
  },
  {
   "cell_type": "markdown",
   "metadata": {},
   "source": [
    "Confirm that saved features are loaded correctly:"
   ]
  },
  {
   "cell_type": "code",
   "execution_count": 29,
   "metadata": {
    "scrolled": true
   },
   "outputs": [],
   "source": [
    "with open(SAVE_DIR + \"features_train.npy\", \"rb\") as f:\n",
    "    X_train = np.load(f)\n",
    "    img_names_train = np.load(f)\n",
    "    \n",
    "with open(SAVE_DIR + \"features_test.npy\", \"rb\") as f:\n",
    "    X_test = np.load(f)\n",
    "    img_names_test = np.load(f)\n",
    "\n",
    "with open(SAVE_DIR + \"features_lockbox.npy\", \"rb\") as f:\n",
    "    X_lockbox = np.load(f)\n",
    "    img_names_lockbox = np.load(f)\n",
    "    \n",
    "assert np.all(X_train == features_train)\n",
    "assert np.all(X_test == features_test)\n",
    "assert np.all(X_lockbox == features_lockbox)\n",
    "\n",
    "assert np.all(img_names_train == np.array(file_names_train))\n",
    "assert np.all(img_names_test == np.array(file_names_test))\n",
    "assert np.all(img_names_lockbox == np.array(file_names_lockbox))\n",
    "\n",
    "del features_train\n",
    "del features_test\n",
    "del features_lockbox\n",
    "\n",
    "del file_names_train\n",
    "del file_names_test\n",
    "del file_names_lockbox"
   ]
  },
  {
   "cell_type": "code",
   "execution_count": 4,
   "metadata": {},
   "outputs": [],
   "source": [
    "with open(SAVE_DIR + \"features_train.npy\", \"rb\") as f:\n",
    "    X_train = np.load(f)\n",
    "    img_names_train = np.load(f)\n",
    "    \n",
    "with open(SAVE_DIR + \"features_test.npy\", \"rb\") as f:\n",
    "    X_test = np.load(f)\n",
    "    img_names_test = np.load(f)\n",
    "\n",
    "with open(SAVE_DIR + \"features_lockbox.npy\", \"rb\") as f:\n",
    "    X_lockbox = np.load(f)\n",
    "    img_names_lockbox = np.load(f)"
   ]
  },
  {
   "cell_type": "markdown",
   "metadata": {},
   "source": [
    "## Load the image labels"
   ]
  },
  {
   "cell_type": "code",
   "execution_count": 5,
   "metadata": {
    "scrolled": true
   },
   "outputs": [],
   "source": [
    "labels_df = pd.read_csv(DATA_BASE_PATH + PNG_DIR + 'pivot_df.csv')\n",
    "del labels_df['Unnamed: 0']\n",
    "labels_df = labels_df.set_index('filename')"
   ]
  },
  {
   "cell_type": "code",
   "execution_count": 6,
   "metadata": {},
   "outputs": [
    {
     "data": {
      "text/html": [
       "<div>\n",
       "<style scoped>\n",
       "    .dataframe tbody tr th:only-of-type {\n",
       "        vertical-align: middle;\n",
       "    }\n",
       "\n",
       "    .dataframe tbody tr th {\n",
       "        vertical-align: top;\n",
       "    }\n",
       "\n",
       "    .dataframe thead th {\n",
       "        text-align: right;\n",
       "    }\n",
       "</style>\n",
       "<table border=\"1\" class=\"dataframe\">\n",
       "  <thead>\n",
       "    <tr style=\"text-align: right;\">\n",
       "      <th></th>\n",
       "      <th>any</th>\n",
       "      <th>epidural</th>\n",
       "      <th>intraparenchymal</th>\n",
       "      <th>intraventricular</th>\n",
       "      <th>subarachnoid</th>\n",
       "      <th>subdural</th>\n",
       "    </tr>\n",
       "    <tr>\n",
       "      <th>filename</th>\n",
       "      <th></th>\n",
       "      <th></th>\n",
       "      <th></th>\n",
       "      <th></th>\n",
       "      <th></th>\n",
       "      <th></th>\n",
       "    </tr>\n",
       "  </thead>\n",
       "  <tbody>\n",
       "    <tr>\n",
       "      <td>ID_4166af295.png</td>\n",
       "      <td>0</td>\n",
       "      <td>0</td>\n",
       "      <td>0</td>\n",
       "      <td>0</td>\n",
       "      <td>0</td>\n",
       "      <td>0</td>\n",
       "    </tr>\n",
       "    <tr>\n",
       "      <td>ID_f428bb3e7.png</td>\n",
       "      <td>0</td>\n",
       "      <td>0</td>\n",
       "      <td>0</td>\n",
       "      <td>0</td>\n",
       "      <td>0</td>\n",
       "      <td>0</td>\n",
       "    </tr>\n",
       "    <tr>\n",
       "      <td>ID_8513fb5cc.png</td>\n",
       "      <td>0</td>\n",
       "      <td>0</td>\n",
       "      <td>0</td>\n",
       "      <td>0</td>\n",
       "      <td>0</td>\n",
       "      <td>0</td>\n",
       "    </tr>\n",
       "    <tr>\n",
       "      <td>ID_3d2d45403.png</td>\n",
       "      <td>1</td>\n",
       "      <td>0</td>\n",
       "      <td>0</td>\n",
       "      <td>0</td>\n",
       "      <td>0</td>\n",
       "      <td>1</td>\n",
       "    </tr>\n",
       "    <tr>\n",
       "      <td>ID_f66deaba0.png</td>\n",
       "      <td>0</td>\n",
       "      <td>0</td>\n",
       "      <td>0</td>\n",
       "      <td>0</td>\n",
       "      <td>0</td>\n",
       "      <td>0</td>\n",
       "    </tr>\n",
       "    <tr>\n",
       "      <td>...</td>\n",
       "      <td>...</td>\n",
       "      <td>...</td>\n",
       "      <td>...</td>\n",
       "      <td>...</td>\n",
       "      <td>...</td>\n",
       "      <td>...</td>\n",
       "    </tr>\n",
       "    <tr>\n",
       "      <td>ID_d0a1e36c4.png</td>\n",
       "      <td>0</td>\n",
       "      <td>0</td>\n",
       "      <td>0</td>\n",
       "      <td>0</td>\n",
       "      <td>0</td>\n",
       "      <td>0</td>\n",
       "    </tr>\n",
       "    <tr>\n",
       "      <td>ID_791b3c7a8.png</td>\n",
       "      <td>0</td>\n",
       "      <td>0</td>\n",
       "      <td>0</td>\n",
       "      <td>0</td>\n",
       "      <td>0</td>\n",
       "      <td>0</td>\n",
       "    </tr>\n",
       "    <tr>\n",
       "      <td>ID_5b6ef0304.png</td>\n",
       "      <td>0</td>\n",
       "      <td>0</td>\n",
       "      <td>0</td>\n",
       "      <td>0</td>\n",
       "      <td>0</td>\n",
       "      <td>0</td>\n",
       "    </tr>\n",
       "    <tr>\n",
       "      <td>ID_35e51829e.png</td>\n",
       "      <td>0</td>\n",
       "      <td>0</td>\n",
       "      <td>0</td>\n",
       "      <td>0</td>\n",
       "      <td>0</td>\n",
       "      <td>0</td>\n",
       "    </tr>\n",
       "    <tr>\n",
       "      <td>ID_3a93b98a5.png</td>\n",
       "      <td>0</td>\n",
       "      <td>0</td>\n",
       "      <td>0</td>\n",
       "      <td>0</td>\n",
       "      <td>0</td>\n",
       "      <td>0</td>\n",
       "    </tr>\n",
       "  </tbody>\n",
       "</table>\n",
       "<p>198381 rows × 6 columns</p>\n",
       "</div>"
      ],
      "text/plain": [
       "                  any  epidural  intraparenchymal  intraventricular  \\\n",
       "filename                                                              \n",
       "ID_4166af295.png    0         0                 0                 0   \n",
       "ID_f428bb3e7.png    0         0                 0                 0   \n",
       "ID_8513fb5cc.png    0         0                 0                 0   \n",
       "ID_3d2d45403.png    1         0                 0                 0   \n",
       "ID_f66deaba0.png    0         0                 0                 0   \n",
       "...               ...       ...               ...               ...   \n",
       "ID_d0a1e36c4.png    0         0                 0                 0   \n",
       "ID_791b3c7a8.png    0         0                 0                 0   \n",
       "ID_5b6ef0304.png    0         0                 0                 0   \n",
       "ID_35e51829e.png    0         0                 0                 0   \n",
       "ID_3a93b98a5.png    0         0                 0                 0   \n",
       "\n",
       "                  subarachnoid  subdural  \n",
       "filename                                  \n",
       "ID_4166af295.png             0         0  \n",
       "ID_f428bb3e7.png             0         0  \n",
       "ID_8513fb5cc.png             0         0  \n",
       "ID_3d2d45403.png             0         1  \n",
       "ID_f66deaba0.png             0         0  \n",
       "...                        ...       ...  \n",
       "ID_d0a1e36c4.png             0         0  \n",
       "ID_791b3c7a8.png             0         0  \n",
       "ID_5b6ef0304.png             0         0  \n",
       "ID_35e51829e.png             0         0  \n",
       "ID_3a93b98a5.png             0         0  \n",
       "\n",
       "[198381 rows x 6 columns]"
      ]
     },
     "execution_count": 6,
     "metadata": {},
     "output_type": "execute_result"
    }
   ],
   "source": [
    "labels_train_df = labels_df.loc[[os.path.basename(f) for f in img_names_train]]\n",
    "labels_test_df = labels_df.loc[[os.path.basename(f) for f in img_names_test]]\n",
    "labels_test_df"
   ]
  },
  {
   "cell_type": "code",
   "execution_count": 7,
   "metadata": {},
   "outputs": [],
   "source": [
    "labels_lockbox_df = labels_df.loc[[os.path.basename(f) for f in img_names_lockbox]]"
   ]
  },
  {
   "cell_type": "code",
   "execution_count": 8,
   "metadata": {},
   "outputs": [
    {
     "data": {
      "text/plain": [
       "array([0, 0, 0, ..., 0, 0, 0])"
      ]
     },
     "execution_count": 8,
     "metadata": {},
     "output_type": "execute_result"
    }
   ],
   "source": [
    "y_train = labels_train_df[\"any\"].values\n",
    "y_test = labels_test_df[\"any\"].values\n",
    "y_lockbox = labels_lockbox_df[\"any\"].values\n",
    "y_train"
   ]
  },
  {
   "cell_type": "code",
   "execution_count": 9,
   "metadata": {},
   "outputs": [
    {
     "name": "stdout",
     "output_type": "stream",
     "text": [
      "(198543, 2048) (198381, 2048) (355878, 2048) (198543,) (198381,) (355878,)\n"
     ]
    }
   ],
   "source": [
    "print(X_train.shape, X_test.shape, X_lockbox.shape,\n",
    "      y_train.shape, y_test.shape, y_lockbox.shape)"
   ]
  },
  {
   "cell_type": "markdown",
   "metadata": {},
   "source": [
    "## Fit a logistic regression classifier on the training data"
   ]
  },
  {
   "cell_type": "code",
   "execution_count": 10,
   "metadata": {},
   "outputs": [],
   "source": [
    "from sklearn.linear_model import LogisticRegression, LogisticRegressionCV\n",
    "from sklearn.metrics import roc_auc_score"
   ]
  },
  {
   "cell_type": "markdown",
   "metadata": {},
   "source": [
    "Feature standardization prior to logistic regression"
   ]
  },
  {
   "cell_type": "code",
   "execution_count": 11,
   "metadata": {},
   "outputs": [],
   "source": [
    "from sklearn import preprocessing\n",
    "\n",
    "scaler = preprocessing.StandardScaler().fit(X_train)\n",
    "X_train_scaled = scaler.transform(X_train)\n",
    "X_test_scaled = scaler.transform(X_test)\n",
    "X_lockbox_scaled = scaler.transform(X_lockbox)"
   ]
  },
  {
   "cell_type": "markdown",
   "metadata": {},
   "source": [
    "### First fit a model without regularization"
   ]
  },
  {
   "cell_type": "code",
   "execution_count": 38,
   "metadata": {},
   "outputs": [
    {
     "data": {
      "text/plain": [
       "LogisticRegression(C=1.0, class_weight=None, dual=False, fit_intercept=True,\n",
       "                   intercept_scaling=1, l1_ratio=None, max_iter=10000,\n",
       "                   multi_class='warn', n_jobs=None, penalty='none',\n",
       "                   random_state=2020, solver='lbfgs', tol=0.0001, verbose=0,\n",
       "                   warm_start=False)"
      ]
     },
     "execution_count": 38,
     "metadata": {},
     "output_type": "execute_result"
    }
   ],
   "source": [
    "logit_model = LogisticRegression(\n",
    "    penalty=\"none\", solver=\"lbfgs\", random_state=RANDOM_SEED, max_iter=10000\n",
    ")\n",
    "logit_model.fit(X_train_scaled, y_train)"
   ]
  },
  {
   "cell_type": "markdown",
   "metadata": {},
   "source": [
    "* Accuracy on the training data:"
   ]
  },
  {
   "cell_type": "code",
   "execution_count": 39,
   "metadata": {},
   "outputs": [
    {
     "data": {
      "text/plain": [
       "0.8786358622565389"
      ]
     },
     "execution_count": 39,
     "metadata": {},
     "output_type": "execute_result"
    }
   ],
   "source": [
    "logit_model.score(X_train_scaled, y_train)"
   ]
  },
  {
   "cell_type": "markdown",
   "metadata": {},
   "source": [
    "* Accuracy on the test data:"
   ]
  },
  {
   "cell_type": "code",
   "execution_count": 40,
   "metadata": {},
   "outputs": [
    {
     "data": {
      "text/plain": [
       "0.8643368064481982"
      ]
     },
     "execution_count": 40,
     "metadata": {},
     "output_type": "execute_result"
    }
   ],
   "source": [
    "logit_model.score(X_test_scaled, y_test)"
   ]
  },
  {
   "cell_type": "markdown",
   "metadata": {},
   "source": [
    "* Accuracy on the lockbox data:"
   ]
  },
  {
   "cell_type": "code",
   "execution_count": 41,
   "metadata": {},
   "outputs": [
    {
     "data": {
      "text/plain": [
       "0.8618318637285811"
      ]
     },
     "execution_count": 41,
     "metadata": {},
     "output_type": "execute_result"
    }
   ],
   "source": [
    "logit_model.score(X_lockbox_scaled, y_lockbox)"
   ]
  },
  {
   "cell_type": "markdown",
   "metadata": {},
   "source": [
    "* AUC of training data:"
   ]
  },
  {
   "cell_type": "code",
   "execution_count": 44,
   "metadata": {
    "scrolled": true
   },
   "outputs": [
    {
     "data": {
      "text/plain": [
       "0.8541853840351695"
      ]
     },
     "execution_count": 44,
     "metadata": {},
     "output_type": "execute_result"
    }
   ],
   "source": [
    "y_train_pred = logit_model.predict_proba(X_train_scaled)\n",
    "roc_auc_score(y_train, y_train_pred[:,1])"
   ]
  },
  {
   "cell_type": "markdown",
   "metadata": {},
   "source": [
    "* AUC on test data:"
   ]
  },
  {
   "cell_type": "code",
   "execution_count": 45,
   "metadata": {},
   "outputs": [
    {
     "data": {
      "text/plain": [
       "0.8218309351702637"
      ]
     },
     "execution_count": 45,
     "metadata": {},
     "output_type": "execute_result"
    }
   ],
   "source": [
    "y_test_pred = logit_model.predict_proba(X_test_scaled)\n",
    "roc_auc_score(y_test, y_test_pred[:,1])"
   ]
  },
  {
   "cell_type": "markdown",
   "metadata": {},
   "source": [
    "* AUC on lockbox data:"
   ]
  },
  {
   "cell_type": "code",
   "execution_count": 46,
   "metadata": {},
   "outputs": [
    {
     "data": {
      "text/plain": [
       "0.8176589777160388"
      ]
     },
     "execution_count": 46,
     "metadata": {},
     "output_type": "execute_result"
    }
   ],
   "source": [
    "y_lockbox_pred = logit_model.predict_proba(X_lockbox_scaled)\n",
    "roc_auc_score(y_lockbox, y_lockbox_pred[:,1])"
   ]
  },
  {
   "cell_type": "markdown",
   "metadata": {},
   "source": [
    "### Fit an (L1, L2)-regularized model with penalty parameter chosen via cross-validation\n",
    "\n",
    "**TODO: this needs to be redone as it was done with a smaller dataset in the previous version of this notebook.**"
   ]
  },
  {
   "cell_type": "markdown",
   "metadata": {},
   "source": [
    "Choosing the regularization parameter for logistic regression"
   ]
  },
  {
   "cell_type": "code",
   "execution_count": 12,
   "metadata": {},
   "outputs": [],
   "source": [
    "from sklearn.model_selection import StratifiedKFold"
   ]
  },
  {
   "cell_type": "markdown",
   "metadata": {},
   "source": [
    "With feature standardization"
   ]
  },
  {
   "cell_type": "code",
   "execution_count": null,
   "metadata": {},
   "outputs": [],
   "source": [
    "skf = StratifiedKFold(n_splits=5, shuffle=True, random_state=RANDOM_SEED)\n",
    "\n",
    "c_values = np.logspace(-3, 2, 2)#100)\n",
    "l1_ratios = np.linspace(0, 1, 2)#10)\n",
    "\n",
    "logit_searcher = LogisticRegressionCV(\n",
    "    Cs=c_values, l1_ratios=l1_ratios, penalty=\"elasticnet\", solver=\"saga\",\n",
    "    cv=skf, verbose=1, n_jobs=4, max_iter=10000, scoring=\"roc_auc_score\", refit=True\n",
    ")\n",
    "logit_searcher.fit(X_train_scaled, y_train)"
   ]
  },
  {
   "cell_type": "markdown",
   "metadata": {},
   "source": [
    "Save the model:"
   ]
  },
  {
   "cell_type": "code",
   "execution_count": null,
   "metadata": {},
   "outputs": [],
   "source": []
  },
  {
   "cell_type": "code",
   "execution_count": 38,
   "metadata": {},
   "outputs": [
    {
     "data": {
      "text/plain": [
       "(0.0, 0.1)"
      ]
     },
     "execution_count": 38,
     "metadata": {},
     "output_type": "execute_result"
    },
    {
     "data": {
      "image/png": "[encoded data removed]",
      "text/plain": [
       "<Figure size 432x288 with 1 Axes>"
      ]
     },
     "metadata": {
      "needs_background": "light"
     },
     "output_type": "display_data"
    }
   ],
   "source": [
    "plt.plot(c_values, np.mean(logit_searcher.scores_[1], axis=0))\n",
    "plt.xlabel('C')\n",
    "plt.ylabel('Mean CV-accuracy')\n",
    "plt.xlim((0,.1))"
   ]
  },
  {
   "cell_type": "code",
   "execution_count": 36,
   "metadata": {
    "scrolled": true
   },
   "outputs": [
    {
     "name": "stdout",
     "output_type": "stream",
     "text": [
      "0.005514205739240302\n"
     ]
    }
   ],
   "source": [
    "optim_c = logit_searcher.C_[0]\n",
    "print(optim_c)"
   ]
  },
  {
   "cell_type": "markdown",
   "metadata": {},
   "source": [
    "We see that the procedure selected C=0.005514205739240302."
   ]
  },
  {
   "cell_type": "markdown",
   "metadata": {},
   "source": [
    "Fit a model with the selected regularization parameter:"
   ]
  },
  {
   "cell_type": "code",
   "execution_count": 39,
   "metadata": {},
   "outputs": [
    {
     "name": "stderr",
     "output_type": "stream",
     "text": [
      "/usr/local/lib/python3.6/dist-packages/sklearn/linear_model/logistic.py:432: FutureWarning: Default solver will be changed to 'lbfgs' in 0.22. Specify a solver to silence this warning.\n",
      "  FutureWarning)\n"
     ]
    },
    {
     "data": {
      "text/plain": [
       "LogisticRegression(C=0.005514205739240302, class_weight=None, dual=False,\n",
       "                   fit_intercept=True, intercept_scaling=1, l1_ratio=None,\n",
       "                   max_iter=10000, multi_class='warn', n_jobs=None,\n",
       "                   penalty='l2', random_state=2020, solver='warn', tol=0.0001,\n",
       "                   verbose=0, warm_start=False)"
      ]
     },
     "execution_count": 39,
     "metadata": {},
     "output_type": "execute_result"
    }
   ],
   "source": [
    "logit_model = LogisticRegression(C=optim_c, random_state=RANDOM_SEED, max_iter=10000)\n",
    "logit_model.fit(X_train_scaled, y_train)"
   ]
  },
  {
   "cell_type": "markdown",
   "metadata": {},
   "source": [
    "* Accuracy on the training data:"
   ]
  },
  {
   "cell_type": "code",
   "execution_count": 40,
   "metadata": {},
   "outputs": [
    {
     "data": {
      "text/plain": [
       "0.8962195336670272"
      ]
     },
     "execution_count": 40,
     "metadata": {},
     "output_type": "execute_result"
    }
   ],
   "source": [
    "logit_model.score(X_train_scaled, y_train)"
   ]
  },
  {
   "cell_type": "markdown",
   "metadata": {},
   "source": [
    "* Accuracy on the test data:"
   ]
  },
  {
   "cell_type": "code",
   "execution_count": 41,
   "metadata": {},
   "outputs": [
    {
     "data": {
      "text/plain": [
       "0.8471916775803702"
      ]
     },
     "execution_count": 41,
     "metadata": {},
     "output_type": "execute_result"
    }
   ],
   "source": [
    "logit_model.score(X_test_scaled, y_test)"
   ]
  },
  {
   "cell_type": "markdown",
   "metadata": {},
   "source": [
    "* Accuracy on the lockbox data:"
   ]
  },
  {
   "cell_type": "code",
   "execution_count": 42,
   "metadata": {},
   "outputs": [
    {
     "data": {
      "text/plain": [
       "0.8558898919973357"
      ]
     },
     "execution_count": 42,
     "metadata": {},
     "output_type": "execute_result"
    }
   ],
   "source": [
    "logit_model.score(X_lockbox_scaled, y_lockbox)"
   ]
  },
  {
   "cell_type": "markdown",
   "metadata": {},
   "source": [
    "* AUC of training data:"
   ]
  },
  {
   "cell_type": "code",
   "execution_count": 51,
   "metadata": {
    "scrolled": true
   },
   "outputs": [
    {
     "data": {
      "text/plain": [
       "0.899392832069842"
      ]
     },
     "execution_count": 51,
     "metadata": {},
     "output_type": "execute_result"
    }
   ],
   "source": [
    "y_train_pred = logit_model.predict_proba(X_train_scaled)\n",
    "roc_auc_score(y_train, y_train_pred[:,1])"
   ]
  },
  {
   "cell_type": "markdown",
   "metadata": {},
   "source": [
    "* AUC on test data:"
   ]
  },
  {
   "cell_type": "code",
   "execution_count": 53,
   "metadata": {},
   "outputs": [
    {
     "data": {
      "text/plain": [
       "0.7854016291679644"
      ]
     },
     "execution_count": 53,
     "metadata": {},
     "output_type": "execute_result"
    }
   ],
   "source": [
    "y_test_pred = logit_model.predict_proba(X_test_scaled)\n",
    "roc_auc_score(y_test, y_test_pred[:,1])"
   ]
  },
  {
   "cell_type": "markdown",
   "metadata": {},
   "source": [
    "* AUC on lockbox data:"
   ]
  },
  {
   "cell_type": "code",
   "execution_count": 54,
   "metadata": {},
   "outputs": [
    {
     "data": {
      "text/plain": [
       "0.7849248172411889"
      ]
     },
     "execution_count": 54,
     "metadata": {},
     "output_type": "execute_result"
    }
   ],
   "source": [
    "y_lockbox_pred = logit_model.predict_proba(X_lockbox_scaled)\n",
    "roc_auc_score(y_lockbox, y_lockbox_pred[:,1])"
   ]
  },
  {
   "cell_type": "markdown",
   "metadata": {},
   "source": [
    "## Save CSV files\n",
    "\n",
    "For easier processing in R, we will store the features, labels, and image ids in a common dataframe, which will be saved as CSV files."
   ]
  },
  {
   "cell_type": "code",
   "execution_count": 11,
   "metadata": {},
   "outputs": [],
   "source": [
    "num_features = X_train.shape[1]"
   ]
  },
  {
   "cell_type": "code",
   "execution_count": 47,
   "metadata": {},
   "outputs": [
    {
     "data": {
      "text/html": [
       "<div>\n",
       "<style scoped>\n",
       "    .dataframe tbody tr th:only-of-type {\n",
       "        vertical-align: middle;\n",
       "    }\n",
       "\n",
       "    .dataframe tbody tr th {\n",
       "        vertical-align: top;\n",
       "    }\n",
       "\n",
       "    .dataframe thead th {\n",
       "        text-align: right;\n",
       "    }\n",
       "</style>\n",
       "<table border=\"1\" class=\"dataframe\">\n",
       "  <thead>\n",
       "    <tr style=\"text-align: right;\">\n",
       "      <th></th>\n",
       "      <th>x0</th>\n",
       "      <th>x1</th>\n",
       "      <th>x2</th>\n",
       "      <th>x3</th>\n",
       "      <th>x4</th>\n",
       "      <th>x5</th>\n",
       "      <th>x6</th>\n",
       "      <th>x7</th>\n",
       "      <th>x8</th>\n",
       "      <th>x9</th>\n",
       "      <th>...</th>\n",
       "      <th>x2038</th>\n",
       "      <th>x2039</th>\n",
       "      <th>x2040</th>\n",
       "      <th>x2041</th>\n",
       "      <th>x2042</th>\n",
       "      <th>x2043</th>\n",
       "      <th>x2044</th>\n",
       "      <th>x2045</th>\n",
       "      <th>x2046</th>\n",
       "      <th>x2047</th>\n",
       "    </tr>\n",
       "  </thead>\n",
       "  <tbody>\n",
       "    <tr>\n",
       "      <td>ID_ee9b0a202.png</td>\n",
       "      <td>0.0</td>\n",
       "      <td>0.0</td>\n",
       "      <td>0.000000</td>\n",
       "      <td>0.0</td>\n",
       "      <td>0.000000</td>\n",
       "      <td>0.0</td>\n",
       "      <td>0.0</td>\n",
       "      <td>0.000000</td>\n",
       "      <td>0.00000</td>\n",
       "      <td>0.0</td>\n",
       "      <td>...</td>\n",
       "      <td>0.0</td>\n",
       "      <td>0.000000</td>\n",
       "      <td>0.543290</td>\n",
       "      <td>0.0</td>\n",
       "      <td>0.000000</td>\n",
       "      <td>0.0</td>\n",
       "      <td>0.0</td>\n",
       "      <td>0.0</td>\n",
       "      <td>0.000000</td>\n",
       "      <td>0.0</td>\n",
       "    </tr>\n",
       "    <tr>\n",
       "      <td>ID_41eb170e8.png</td>\n",
       "      <td>0.0</td>\n",
       "      <td>0.0</td>\n",
       "      <td>0.000000</td>\n",
       "      <td>0.0</td>\n",
       "      <td>0.000000</td>\n",
       "      <td>0.0</td>\n",
       "      <td>0.0</td>\n",
       "      <td>0.000000</td>\n",
       "      <td>0.00000</td>\n",
       "      <td>0.0</td>\n",
       "      <td>...</td>\n",
       "      <td>0.0</td>\n",
       "      <td>0.000000</td>\n",
       "      <td>0.448347</td>\n",
       "      <td>0.0</td>\n",
       "      <td>0.000000</td>\n",
       "      <td>0.0</td>\n",
       "      <td>0.0</td>\n",
       "      <td>0.0</td>\n",
       "      <td>0.000000</td>\n",
       "      <td>0.0</td>\n",
       "    </tr>\n",
       "    <tr>\n",
       "      <td>ID_e849bf0c7.png</td>\n",
       "      <td>0.0</td>\n",
       "      <td>0.0</td>\n",
       "      <td>0.040333</td>\n",
       "      <td>0.0</td>\n",
       "      <td>0.475496</td>\n",
       "      <td>0.0</td>\n",
       "      <td>0.0</td>\n",
       "      <td>0.204805</td>\n",
       "      <td>0.01947</td>\n",
       "      <td>0.0</td>\n",
       "      <td>...</td>\n",
       "      <td>0.0</td>\n",
       "      <td>0.347332</td>\n",
       "      <td>0.659752</td>\n",
       "      <td>0.0</td>\n",
       "      <td>0.015967</td>\n",
       "      <td>0.0</td>\n",
       "      <td>0.0</td>\n",
       "      <td>0.0</td>\n",
       "      <td>1.562007</td>\n",
       "      <td>0.0</td>\n",
       "    </tr>\n",
       "    <tr>\n",
       "      <td>ID_f308762e4.png</td>\n",
       "      <td>0.0</td>\n",
       "      <td>0.0</td>\n",
       "      <td>0.000000</td>\n",
       "      <td>0.0</td>\n",
       "      <td>0.182601</td>\n",
       "      <td>0.0</td>\n",
       "      <td>0.0</td>\n",
       "      <td>0.000000</td>\n",
       "      <td>0.00000</td>\n",
       "      <td>0.0</td>\n",
       "      <td>...</td>\n",
       "      <td>0.0</td>\n",
       "      <td>0.000000</td>\n",
       "      <td>0.385913</td>\n",
       "      <td>0.0</td>\n",
       "      <td>0.000000</td>\n",
       "      <td>0.0</td>\n",
       "      <td>0.0</td>\n",
       "      <td>0.0</td>\n",
       "      <td>0.012844</td>\n",
       "      <td>0.0</td>\n",
       "    </tr>\n",
       "    <tr>\n",
       "      <td>ID_667d76de4.png</td>\n",
       "      <td>0.0</td>\n",
       "      <td>0.0</td>\n",
       "      <td>0.000000</td>\n",
       "      <td>0.0</td>\n",
       "      <td>0.023541</td>\n",
       "      <td>0.0</td>\n",
       "      <td>0.0</td>\n",
       "      <td>0.000000</td>\n",
       "      <td>0.00000</td>\n",
       "      <td>0.0</td>\n",
       "      <td>...</td>\n",
       "      <td>0.0</td>\n",
       "      <td>0.000000</td>\n",
       "      <td>0.332624</td>\n",
       "      <td>0.0</td>\n",
       "      <td>0.000000</td>\n",
       "      <td>0.0</td>\n",
       "      <td>0.0</td>\n",
       "      <td>0.0</td>\n",
       "      <td>0.000000</td>\n",
       "      <td>0.0</td>\n",
       "    </tr>\n",
       "  </tbody>\n",
       "</table>\n",
       "<p>5 rows × 2048 columns</p>\n",
       "</div>"
      ],
      "text/plain": [
       "                   x0   x1        x2   x3        x4   x5   x6        x7  \\\n",
       "ID_ee9b0a202.png  0.0  0.0  0.000000  0.0  0.000000  0.0  0.0  0.000000   \n",
       "ID_41eb170e8.png  0.0  0.0  0.000000  0.0  0.000000  0.0  0.0  0.000000   \n",
       "ID_e849bf0c7.png  0.0  0.0  0.040333  0.0  0.475496  0.0  0.0  0.204805   \n",
       "ID_f308762e4.png  0.0  0.0  0.000000  0.0  0.182601  0.0  0.0  0.000000   \n",
       "ID_667d76de4.png  0.0  0.0  0.000000  0.0  0.023541  0.0  0.0  0.000000   \n",
       "\n",
       "                       x8   x9  ...  x2038     x2039     x2040  x2041  \\\n",
       "ID_ee9b0a202.png  0.00000  0.0  ...    0.0  0.000000  0.543290    0.0   \n",
       "ID_41eb170e8.png  0.00000  0.0  ...    0.0  0.000000  0.448347    0.0   \n",
       "ID_e849bf0c7.png  0.01947  0.0  ...    0.0  0.347332  0.659752    0.0   \n",
       "ID_f308762e4.png  0.00000  0.0  ...    0.0  0.000000  0.385913    0.0   \n",
       "ID_667d76de4.png  0.00000  0.0  ...    0.0  0.000000  0.332624    0.0   \n",
       "\n",
       "                     x2042  x2043  x2044  x2045     x2046  x2047  \n",
       "ID_ee9b0a202.png  0.000000    0.0    0.0    0.0  0.000000    0.0  \n",
       "ID_41eb170e8.png  0.000000    0.0    0.0    0.0  0.000000    0.0  \n",
       "ID_e849bf0c7.png  0.015967    0.0    0.0    0.0  1.562007    0.0  \n",
       "ID_f308762e4.png  0.000000    0.0    0.0    0.0  0.012844    0.0  \n",
       "ID_667d76de4.png  0.000000    0.0    0.0    0.0  0.000000    0.0  \n",
       "\n",
       "[5 rows x 2048 columns]"
      ]
     },
     "execution_count": 47,
     "metadata": {},
     "output_type": "execute_result"
    }
   ],
   "source": [
    "train_df = pd.DataFrame(\n",
    "    data=X_train,\n",
    "    index=[os.path.basename(f) for f in img_names_train],\n",
    "    columns=[\"x\"+str(i) for i in range(num_features)]\n",
    ")\n",
    "\n",
    "train_df.head()"
   ]
  },
  {
   "cell_type": "code",
   "execution_count": 48,
   "metadata": {
    "scrolled": true
   },
   "outputs": [
    {
     "data": {
      "text/html": [
       "<div>\n",
       "<style scoped>\n",
       "    .dataframe tbody tr th:only-of-type {\n",
       "        vertical-align: middle;\n",
       "    }\n",
       "\n",
       "    .dataframe tbody tr th {\n",
       "        vertical-align: top;\n",
       "    }\n",
       "\n",
       "    .dataframe thead th {\n",
       "        text-align: right;\n",
       "    }\n",
       "</style>\n",
       "<table border=\"1\" class=\"dataframe\">\n",
       "  <thead>\n",
       "    <tr style=\"text-align: right;\">\n",
       "      <th></th>\n",
       "      <th>patient_ID</th>\n",
       "      <th>study_instance_ID</th>\n",
       "      <th>series_instance_ID</th>\n",
       "      <th>any</th>\n",
       "      <th>epidural</th>\n",
       "      <th>intraparenchymal</th>\n",
       "      <th>intraventricular</th>\n",
       "      <th>subarachnoid</th>\n",
       "      <th>subdural</th>\n",
       "      <th>group</th>\n",
       "      <th>...</th>\n",
       "      <th>x2038</th>\n",
       "      <th>x2039</th>\n",
       "      <th>x2040</th>\n",
       "      <th>x2041</th>\n",
       "      <th>x2042</th>\n",
       "      <th>x2043</th>\n",
       "      <th>x2044</th>\n",
       "      <th>x2045</th>\n",
       "      <th>x2046</th>\n",
       "      <th>x2047</th>\n",
       "    </tr>\n",
       "    <tr>\n",
       "      <th>filename</th>\n",
       "      <th></th>\n",
       "      <th></th>\n",
       "      <th></th>\n",
       "      <th></th>\n",
       "      <th></th>\n",
       "      <th></th>\n",
       "      <th></th>\n",
       "      <th></th>\n",
       "      <th></th>\n",
       "      <th></th>\n",
       "      <th></th>\n",
       "      <th></th>\n",
       "      <th></th>\n",
       "      <th></th>\n",
       "      <th></th>\n",
       "      <th></th>\n",
       "      <th></th>\n",
       "      <th></th>\n",
       "      <th></th>\n",
       "      <th></th>\n",
       "      <th></th>\n",
       "    </tr>\n",
       "  </thead>\n",
       "  <tbody>\n",
       "    <tr>\n",
       "      <td>ID_ee9b0a202.png</td>\n",
       "      <td>ID_ea32a910</td>\n",
       "      <td>ID_1790cc3a1f</td>\n",
       "      <td>ID_e151adeb6a</td>\n",
       "      <td>0</td>\n",
       "      <td>0</td>\n",
       "      <td>0</td>\n",
       "      <td>0</td>\n",
       "      <td>0</td>\n",
       "      <td>0</td>\n",
       "      <td>90</td>\n",
       "      <td>...</td>\n",
       "      <td>0.0</td>\n",
       "      <td>0.000000</td>\n",
       "      <td>0.543290</td>\n",
       "      <td>0.0</td>\n",
       "      <td>0.000000</td>\n",
       "      <td>0.0</td>\n",
       "      <td>0.0</td>\n",
       "      <td>0.0</td>\n",
       "      <td>0.000000</td>\n",
       "      <td>0.0</td>\n",
       "    </tr>\n",
       "    <tr>\n",
       "      <td>ID_41eb170e8.png</td>\n",
       "      <td>ID_819de77c</td>\n",
       "      <td>ID_160028dd74</td>\n",
       "      <td>ID_906ccc12e2</td>\n",
       "      <td>0</td>\n",
       "      <td>0</td>\n",
       "      <td>0</td>\n",
       "      <td>0</td>\n",
       "      <td>0</td>\n",
       "      <td>0</td>\n",
       "      <td>48</td>\n",
       "      <td>...</td>\n",
       "      <td>0.0</td>\n",
       "      <td>0.000000</td>\n",
       "      <td>0.448347</td>\n",
       "      <td>0.0</td>\n",
       "      <td>0.000000</td>\n",
       "      <td>0.0</td>\n",
       "      <td>0.0</td>\n",
       "      <td>0.0</td>\n",
       "      <td>0.000000</td>\n",
       "      <td>0.0</td>\n",
       "    </tr>\n",
       "    <tr>\n",
       "      <td>ID_e849bf0c7.png</td>\n",
       "      <td>ID_010c18ba</td>\n",
       "      <td>ID_8da1ab563c</td>\n",
       "      <td>ID_e535911bd6</td>\n",
       "      <td>0</td>\n",
       "      <td>0</td>\n",
       "      <td>0</td>\n",
       "      <td>0</td>\n",
       "      <td>0</td>\n",
       "      <td>0</td>\n",
       "      <td>0</td>\n",
       "      <td>...</td>\n",
       "      <td>0.0</td>\n",
       "      <td>0.347332</td>\n",
       "      <td>0.659752</td>\n",
       "      <td>0.0</td>\n",
       "      <td>0.015967</td>\n",
       "      <td>0.0</td>\n",
       "      <td>0.0</td>\n",
       "      <td>0.0</td>\n",
       "      <td>1.562007</td>\n",
       "      <td>0.0</td>\n",
       "    </tr>\n",
       "    <tr>\n",
       "      <td>ID_f308762e4.png</td>\n",
       "      <td>ID_a95e54ce</td>\n",
       "      <td>ID_3a5287d677</td>\n",
       "      <td>ID_7572b6e358</td>\n",
       "      <td>0</td>\n",
       "      <td>0</td>\n",
       "      <td>0</td>\n",
       "      <td>0</td>\n",
       "      <td>0</td>\n",
       "      <td>0</td>\n",
       "      <td>48</td>\n",
       "      <td>...</td>\n",
       "      <td>0.0</td>\n",
       "      <td>0.000000</td>\n",
       "      <td>0.385913</td>\n",
       "      <td>0.0</td>\n",
       "      <td>0.000000</td>\n",
       "      <td>0.0</td>\n",
       "      <td>0.0</td>\n",
       "      <td>0.0</td>\n",
       "      <td>0.012844</td>\n",
       "      <td>0.0</td>\n",
       "    </tr>\n",
       "    <tr>\n",
       "      <td>ID_667d76de4.png</td>\n",
       "      <td>ID_e3ac70cb</td>\n",
       "      <td>ID_9375ebec9a</td>\n",
       "      <td>ID_0319db3904</td>\n",
       "      <td>0</td>\n",
       "      <td>0</td>\n",
       "      <td>0</td>\n",
       "      <td>0</td>\n",
       "      <td>0</td>\n",
       "      <td>0</td>\n",
       "      <td>15</td>\n",
       "      <td>...</td>\n",
       "      <td>0.0</td>\n",
       "      <td>0.000000</td>\n",
       "      <td>0.332624</td>\n",
       "      <td>0.0</td>\n",
       "      <td>0.000000</td>\n",
       "      <td>0.0</td>\n",
       "      <td>0.0</td>\n",
       "      <td>0.0</td>\n",
       "      <td>0.000000</td>\n",
       "      <td>0.0</td>\n",
       "    </tr>\n",
       "  </tbody>\n",
       "</table>\n",
       "<p>5 rows × 2059 columns</p>\n",
       "</div>"
      ],
      "text/plain": [
       "                   patient_ID study_instance_ID series_instance_ID  any  \\\n",
       "filename                                                                  \n",
       "ID_ee9b0a202.png  ID_ea32a910     ID_1790cc3a1f      ID_e151adeb6a    0   \n",
       "ID_41eb170e8.png  ID_819de77c     ID_160028dd74      ID_906ccc12e2    0   \n",
       "ID_e849bf0c7.png  ID_010c18ba     ID_8da1ab563c      ID_e535911bd6    0   \n",
       "ID_f308762e4.png  ID_a95e54ce     ID_3a5287d677      ID_7572b6e358    0   \n",
       "ID_667d76de4.png  ID_e3ac70cb     ID_9375ebec9a      ID_0319db3904    0   \n",
       "\n",
       "                  epidural  intraparenchymal  intraventricular  subarachnoid  \\\n",
       "filename                                                                       \n",
       "ID_ee9b0a202.png         0                 0                 0             0   \n",
       "ID_41eb170e8.png         0                 0                 0             0   \n",
       "ID_e849bf0c7.png         0                 0                 0             0   \n",
       "ID_f308762e4.png         0                 0                 0             0   \n",
       "ID_667d76de4.png         0                 0                 0             0   \n",
       "\n",
       "                  subdural  group  ... x2038     x2039     x2040  x2041  \\\n",
       "filename                           ...                                    \n",
       "ID_ee9b0a202.png         0     90  ...   0.0  0.000000  0.543290    0.0   \n",
       "ID_41eb170e8.png         0     48  ...   0.0  0.000000  0.448347    0.0   \n",
       "ID_e849bf0c7.png         0      0  ...   0.0  0.347332  0.659752    0.0   \n",
       "ID_f308762e4.png         0     48  ...   0.0  0.000000  0.385913    0.0   \n",
       "ID_667d76de4.png         0     15  ...   0.0  0.000000  0.332624    0.0   \n",
       "\n",
       "                     x2042  x2043  x2044  x2045     x2046  x2047  \n",
       "filename                                                          \n",
       "ID_ee9b0a202.png  0.000000    0.0    0.0    0.0  0.000000    0.0  \n",
       "ID_41eb170e8.png  0.000000    0.0    0.0    0.0  0.000000    0.0  \n",
       "ID_e849bf0c7.png  0.015967    0.0    0.0    0.0  1.562007    0.0  \n",
       "ID_f308762e4.png  0.000000    0.0    0.0    0.0  0.012844    0.0  \n",
       "ID_667d76de4.png  0.000000    0.0    0.0    0.0  0.000000    0.0  \n",
       "\n",
       "[5 rows x 2059 columns]"
      ]
     },
     "execution_count": 48,
     "metadata": {},
     "output_type": "execute_result"
    }
   ],
   "source": [
    "train_splits_csv = 'train_splits_' + str(NUM_SUBJ_PER_SPLIT) + '.csv'\n",
    "tmp_df = pd.read_csv(DATA_BASE_PATH + PNG_DIR + train_splits_csv)\n",
    "tmp_df.set_index(\"filename\", inplace=True)\n",
    "tmp_df = tmp_df[['patient_ID', 'study_instance_ID', 'series_instance_ID', 'any',\n",
    "                 'epidural', 'intraparenchymal', 'intraventricular', 'subarachnoid',\n",
    "                 'subdural', 'group', 'dataset']]\n",
    "train_df = tmp_df.join(train_df)\n",
    "\n",
    "# sanity checks\n",
    "assert np.all(train_df.index.values == np.array([os.path.basename(f) for f in img_names_train]))\n",
    "assert np.all(train_df[\"any\"].values == y_train)\n",
    "\n",
    "train_df.head()"
   ]
  },
  {
   "cell_type": "markdown",
   "metadata": {},
   "source": [
    "Save a CSV file for each data split (i.e., `group`)"
   ]
  },
  {
   "cell_type": "code",
   "execution_count": 56,
   "metadata": {
    "scrolled": true
   },
   "outputs": [
    {
     "name": "stdout",
     "output_type": "stream",
     "text": [
      "(1865, 2059)\n",
      "(2224, 2059)\n",
      "(2168, 2059)\n",
      "(1987, 2059)\n",
      "(1829, 2059)\n",
      "(2392, 2059)\n",
      "(1868, 2059)\n",
      "(2010, 2059)\n",
      "(1986, 2059)\n",
      "(1894, 2059)\n",
      "(1886, 2059)\n",
      "(2079, 2059)\n",
      "(2016, 2059)\n",
      "(2065, 2059)\n",
      "(2043, 2059)\n",
      "(1782, 2059)\n",
      "(1991, 2059)\n",
      "(1952, 2059)\n",
      "(2126, 2059)\n",
      "(2099, 2059)\n",
      "(1966, 2059)\n",
      "(2046, 2059)\n",
      "(1661, 2059)\n",
      "(2134, 2059)\n",
      "(1917, 2059)\n",
      "(1846, 2059)\n",
      "(1870, 2059)\n",
      "(1845, 2059)\n",
      "(1909, 2059)\n",
      "(1874, 2059)\n",
      "(1960, 2059)\n",
      "(1960, 2059)\n",
      "(1992, 2059)\n",
      "(1941, 2059)\n",
      "(2037, 2059)\n",
      "(1834, 2059)\n",
      "(1760, 2059)\n",
      "(1938, 2059)\n",
      "(2065, 2059)\n",
      "(2026, 2059)\n",
      "(1929, 2059)\n",
      "(2044, 2059)\n",
      "(1948, 2059)\n",
      "(1891, 2059)\n",
      "(2153, 2059)\n",
      "(1965, 2059)\n",
      "(1794, 2059)\n",
      "(2247, 2059)\n",
      "(1885, 2059)\n",
      "(1874, 2059)\n",
      "(1896, 2059)\n",
      "(1842, 2059)\n",
      "(2150, 2059)\n",
      "(1962, 2059)\n",
      "(1972, 2059)\n",
      "(1768, 2059)\n",
      "(1915, 2059)\n",
      "(2005, 2059)\n",
      "(1899, 2059)\n",
      "(1924, 2059)\n",
      "(1738, 2059)\n",
      "(1919, 2059)\n",
      "(1944, 2059)\n",
      "(2076, 2059)\n",
      "(1801, 2059)\n",
      "(1922, 2059)\n",
      "(2027, 2059)\n",
      "(2090, 2059)\n",
      "(1807, 2059)\n",
      "(2329, 2059)\n",
      "(2099, 2059)\n",
      "(2183, 2059)\n",
      "(1868, 2059)\n",
      "(2452, 2059)\n",
      "(1907, 2059)\n",
      "(2034, 2059)\n",
      "(1982, 2059)\n",
      "(2043, 2059)\n",
      "(1925, 2059)\n",
      "(2349, 2059)\n",
      "(1898, 2059)\n",
      "(2012, 2059)\n",
      "(2020, 2059)\n",
      "(2157, 2059)\n",
      "(2105, 2059)\n",
      "(2042, 2059)\n",
      "(1970, 2059)\n",
      "(1968, 2059)\n",
      "(2230, 2059)\n",
      "(2078, 2059)\n",
      "(1866, 2059)\n",
      "(1990, 2059)\n",
      "(1825, 2059)\n",
      "(2066, 2059)\n",
      "(1890, 2059)\n",
      "(1891, 2059)\n",
      "(1988, 2059)\n",
      "(1922, 2059)\n",
      "(2155, 2059)\n",
      "(2069, 2059)\n"
     ]
    }
   ],
   "source": [
    "for i in np.unique(train_df.group.values):\n",
    "    split_df = train_df.loc[train_df.group == i, :]\n",
    "    if DEBUG_MODE:\n",
    "        print(split_df.shape)\n",
    "    split_df.to_csv(SAVE_DIR + \"train_{}.csv\".format(i))"
   ]
  },
  {
   "cell_type": "code",
   "execution_count": 58,
   "metadata": {},
   "outputs": [
    {
     "data": {
      "text/html": [
       "<div>\n",
       "<style scoped>\n",
       "    .dataframe tbody tr th:only-of-type {\n",
       "        vertical-align: middle;\n",
       "    }\n",
       "\n",
       "    .dataframe tbody tr th {\n",
       "        vertical-align: top;\n",
       "    }\n",
       "\n",
       "    .dataframe thead th {\n",
       "        text-align: right;\n",
       "    }\n",
       "</style>\n",
       "<table border=\"1\" class=\"dataframe\">\n",
       "  <thead>\n",
       "    <tr style=\"text-align: right;\">\n",
       "      <th></th>\n",
       "      <th>patient_ID</th>\n",
       "      <th>study_instance_ID</th>\n",
       "      <th>series_instance_ID</th>\n",
       "      <th>any</th>\n",
       "      <th>epidural</th>\n",
       "      <th>intraparenchymal</th>\n",
       "      <th>intraventricular</th>\n",
       "      <th>subarachnoid</th>\n",
       "      <th>subdural</th>\n",
       "      <th>group</th>\n",
       "      <th>...</th>\n",
       "      <th>x2038</th>\n",
       "      <th>x2039</th>\n",
       "      <th>x2040</th>\n",
       "      <th>x2041</th>\n",
       "      <th>x2042</th>\n",
       "      <th>x2043</th>\n",
       "      <th>x2044</th>\n",
       "      <th>x2045</th>\n",
       "      <th>x2046</th>\n",
       "      <th>x2047</th>\n",
       "    </tr>\n",
       "    <tr>\n",
       "      <th>filename</th>\n",
       "      <th></th>\n",
       "      <th></th>\n",
       "      <th></th>\n",
       "      <th></th>\n",
       "      <th></th>\n",
       "      <th></th>\n",
       "      <th></th>\n",
       "      <th></th>\n",
       "      <th></th>\n",
       "      <th></th>\n",
       "      <th></th>\n",
       "      <th></th>\n",
       "      <th></th>\n",
       "      <th></th>\n",
       "      <th></th>\n",
       "      <th></th>\n",
       "      <th></th>\n",
       "      <th></th>\n",
       "      <th></th>\n",
       "      <th></th>\n",
       "      <th></th>\n",
       "    </tr>\n",
       "  </thead>\n",
       "  <tbody>\n",
       "    <tr>\n",
       "      <td>ID_4166af295.png</td>\n",
       "      <td>ID_72a9811c</td>\n",
       "      <td>ID_4863457d29</td>\n",
       "      <td>ID_02da87fe38</td>\n",
       "      <td>0</td>\n",
       "      <td>0</td>\n",
       "      <td>0</td>\n",
       "      <td>0</td>\n",
       "      <td>0</td>\n",
       "      <td>0</td>\n",
       "      <td>37</td>\n",
       "      <td>...</td>\n",
       "      <td>0.0</td>\n",
       "      <td>0.009118</td>\n",
       "      <td>0.347835</td>\n",
       "      <td>0.0</td>\n",
       "      <td>0.000000</td>\n",
       "      <td>0.000000</td>\n",
       "      <td>0.0</td>\n",
       "      <td>0.0</td>\n",
       "      <td>0.029174</td>\n",
       "      <td>0.000000</td>\n",
       "    </tr>\n",
       "    <tr>\n",
       "      <td>ID_f428bb3e7.png</td>\n",
       "      <td>ID_63a3a20e</td>\n",
       "      <td>ID_0c081153a5</td>\n",
       "      <td>ID_0ed14b11a2</td>\n",
       "      <td>0</td>\n",
       "      <td>0</td>\n",
       "      <td>0</td>\n",
       "      <td>0</td>\n",
       "      <td>0</td>\n",
       "      <td>0</td>\n",
       "      <td>27</td>\n",
       "      <td>...</td>\n",
       "      <td>0.0</td>\n",
       "      <td>0.000000</td>\n",
       "      <td>0.443001</td>\n",
       "      <td>0.0</td>\n",
       "      <td>0.000000</td>\n",
       "      <td>0.000000</td>\n",
       "      <td>0.0</td>\n",
       "      <td>0.0</td>\n",
       "      <td>0.001659</td>\n",
       "      <td>0.000000</td>\n",
       "    </tr>\n",
       "    <tr>\n",
       "      <td>ID_8513fb5cc.png</td>\n",
       "      <td>ID_21f1a2b2</td>\n",
       "      <td>ID_e471623e54</td>\n",
       "      <td>ID_814abbd3e6</td>\n",
       "      <td>0</td>\n",
       "      <td>0</td>\n",
       "      <td>0</td>\n",
       "      <td>0</td>\n",
       "      <td>0</td>\n",
       "      <td>0</td>\n",
       "      <td>12</td>\n",
       "      <td>...</td>\n",
       "      <td>0.0</td>\n",
       "      <td>0.000000</td>\n",
       "      <td>0.295009</td>\n",
       "      <td>0.0</td>\n",
       "      <td>0.000000</td>\n",
       "      <td>0.000000</td>\n",
       "      <td>0.0</td>\n",
       "      <td>0.0</td>\n",
       "      <td>0.093052</td>\n",
       "      <td>0.000000</td>\n",
       "    </tr>\n",
       "    <tr>\n",
       "      <td>ID_3d2d45403.png</td>\n",
       "      <td>ID_efa577c6</td>\n",
       "      <td>ID_bce8bffc09</td>\n",
       "      <td>ID_74cac2aa47</td>\n",
       "      <td>1</td>\n",
       "      <td>0</td>\n",
       "      <td>0</td>\n",
       "      <td>0</td>\n",
       "      <td>0</td>\n",
       "      <td>1</td>\n",
       "      <td>59</td>\n",
       "      <td>...</td>\n",
       "      <td>0.0</td>\n",
       "      <td>0.085283</td>\n",
       "      <td>0.868931</td>\n",
       "      <td>0.0</td>\n",
       "      <td>0.000000</td>\n",
       "      <td>0.000000</td>\n",
       "      <td>0.0</td>\n",
       "      <td>0.0</td>\n",
       "      <td>1.091154</td>\n",
       "      <td>0.000000</td>\n",
       "    </tr>\n",
       "    <tr>\n",
       "      <td>ID_f66deaba0.png</td>\n",
       "      <td>ID_90336304</td>\n",
       "      <td>ID_33c9794544</td>\n",
       "      <td>ID_cdf2a654cf</td>\n",
       "      <td>0</td>\n",
       "      <td>0</td>\n",
       "      <td>0</td>\n",
       "      <td>0</td>\n",
       "      <td>0</td>\n",
       "      <td>0</td>\n",
       "      <td>19</td>\n",
       "      <td>...</td>\n",
       "      <td>0.0</td>\n",
       "      <td>0.501021</td>\n",
       "      <td>0.236501</td>\n",
       "      <td>0.0</td>\n",
       "      <td>0.001711</td>\n",
       "      <td>0.000000</td>\n",
       "      <td>0.0</td>\n",
       "      <td>0.0</td>\n",
       "      <td>1.017444</td>\n",
       "      <td>0.000000</td>\n",
       "    </tr>\n",
       "    <tr>\n",
       "      <td>...</td>\n",
       "      <td>...</td>\n",
       "      <td>...</td>\n",
       "      <td>...</td>\n",
       "      <td>...</td>\n",
       "      <td>...</td>\n",
       "      <td>...</td>\n",
       "      <td>...</td>\n",
       "      <td>...</td>\n",
       "      <td>...</td>\n",
       "      <td>...</td>\n",
       "      <td>...</td>\n",
       "      <td>...</td>\n",
       "      <td>...</td>\n",
       "      <td>...</td>\n",
       "      <td>...</td>\n",
       "      <td>...</td>\n",
       "      <td>...</td>\n",
       "      <td>...</td>\n",
       "      <td>...</td>\n",
       "      <td>...</td>\n",
       "      <td>...</td>\n",
       "    </tr>\n",
       "    <tr>\n",
       "      <td>ID_d0a1e36c4.png</td>\n",
       "      <td>ID_e19b9593</td>\n",
       "      <td>ID_75a973b040</td>\n",
       "      <td>ID_780ccc3380</td>\n",
       "      <td>0</td>\n",
       "      <td>0</td>\n",
       "      <td>0</td>\n",
       "      <td>0</td>\n",
       "      <td>0</td>\n",
       "      <td>0</td>\n",
       "      <td>6</td>\n",
       "      <td>...</td>\n",
       "      <td>0.0</td>\n",
       "      <td>0.040701</td>\n",
       "      <td>0.076559</td>\n",
       "      <td>0.0</td>\n",
       "      <td>0.000000</td>\n",
       "      <td>0.000000</td>\n",
       "      <td>0.0</td>\n",
       "      <td>0.0</td>\n",
       "      <td>0.317544</td>\n",
       "      <td>0.000000</td>\n",
       "    </tr>\n",
       "    <tr>\n",
       "      <td>ID_791b3c7a8.png</td>\n",
       "      <td>ID_41cac4db</td>\n",
       "      <td>ID_ab5c82c12e</td>\n",
       "      <td>ID_b09731925d</td>\n",
       "      <td>0</td>\n",
       "      <td>0</td>\n",
       "      <td>0</td>\n",
       "      <td>0</td>\n",
       "      <td>0</td>\n",
       "      <td>0</td>\n",
       "      <td>16</td>\n",
       "      <td>...</td>\n",
       "      <td>0.0</td>\n",
       "      <td>0.000000</td>\n",
       "      <td>0.393973</td>\n",
       "      <td>0.0</td>\n",
       "      <td>0.000000</td>\n",
       "      <td>0.000000</td>\n",
       "      <td>0.0</td>\n",
       "      <td>0.0</td>\n",
       "      <td>0.012179</td>\n",
       "      <td>0.000000</td>\n",
       "    </tr>\n",
       "    <tr>\n",
       "      <td>ID_5b6ef0304.png</td>\n",
       "      <td>ID_5e035492</td>\n",
       "      <td>ID_882103a5a0</td>\n",
       "      <td>ID_837bec96b7</td>\n",
       "      <td>0</td>\n",
       "      <td>0</td>\n",
       "      <td>0</td>\n",
       "      <td>0</td>\n",
       "      <td>0</td>\n",
       "      <td>0</td>\n",
       "      <td>78</td>\n",
       "      <td>...</td>\n",
       "      <td>0.0</td>\n",
       "      <td>0.000000</td>\n",
       "      <td>0.326547</td>\n",
       "      <td>0.0</td>\n",
       "      <td>0.000000</td>\n",
       "      <td>0.000000</td>\n",
       "      <td>0.0</td>\n",
       "      <td>0.0</td>\n",
       "      <td>0.000000</td>\n",
       "      <td>0.000000</td>\n",
       "    </tr>\n",
       "    <tr>\n",
       "      <td>ID_35e51829e.png</td>\n",
       "      <td>ID_521bd2c3</td>\n",
       "      <td>ID_6f1e75df98</td>\n",
       "      <td>ID_6522c6b55a</td>\n",
       "      <td>0</td>\n",
       "      <td>0</td>\n",
       "      <td>0</td>\n",
       "      <td>0</td>\n",
       "      <td>0</td>\n",
       "      <td>0</td>\n",
       "      <td>62</td>\n",
       "      <td>...</td>\n",
       "      <td>0.0</td>\n",
       "      <td>0.112371</td>\n",
       "      <td>0.255401</td>\n",
       "      <td>0.0</td>\n",
       "      <td>0.000000</td>\n",
       "      <td>0.004568</td>\n",
       "      <td>0.0</td>\n",
       "      <td>0.0</td>\n",
       "      <td>0.152474</td>\n",
       "      <td>0.028983</td>\n",
       "    </tr>\n",
       "    <tr>\n",
       "      <td>ID_3a93b98a5.png</td>\n",
       "      <td>ID_8d063d50</td>\n",
       "      <td>ID_21f1b28a61</td>\n",
       "      <td>ID_5520805767</td>\n",
       "      <td>0</td>\n",
       "      <td>0</td>\n",
       "      <td>0</td>\n",
       "      <td>0</td>\n",
       "      <td>0</td>\n",
       "      <td>0</td>\n",
       "      <td>44</td>\n",
       "      <td>...</td>\n",
       "      <td>0.0</td>\n",
       "      <td>0.000000</td>\n",
       "      <td>0.271218</td>\n",
       "      <td>0.0</td>\n",
       "      <td>0.000000</td>\n",
       "      <td>0.000000</td>\n",
       "      <td>0.0</td>\n",
       "      <td>0.0</td>\n",
       "      <td>0.052718</td>\n",
       "      <td>0.000000</td>\n",
       "    </tr>\n",
       "  </tbody>\n",
       "</table>\n",
       "<p>198381 rows × 2059 columns</p>\n",
       "</div>"
      ],
      "text/plain": [
       "                   patient_ID study_instance_ID series_instance_ID  any  \\\n",
       "filename                                                                  \n",
       "ID_4166af295.png  ID_72a9811c     ID_4863457d29      ID_02da87fe38    0   \n",
       "ID_f428bb3e7.png  ID_63a3a20e     ID_0c081153a5      ID_0ed14b11a2    0   \n",
       "ID_8513fb5cc.png  ID_21f1a2b2     ID_e471623e54      ID_814abbd3e6    0   \n",
       "ID_3d2d45403.png  ID_efa577c6     ID_bce8bffc09      ID_74cac2aa47    1   \n",
       "ID_f66deaba0.png  ID_90336304     ID_33c9794544      ID_cdf2a654cf    0   \n",
       "...                       ...               ...                ...  ...   \n",
       "ID_d0a1e36c4.png  ID_e19b9593     ID_75a973b040      ID_780ccc3380    0   \n",
       "ID_791b3c7a8.png  ID_41cac4db     ID_ab5c82c12e      ID_b09731925d    0   \n",
       "ID_5b6ef0304.png  ID_5e035492     ID_882103a5a0      ID_837bec96b7    0   \n",
       "ID_35e51829e.png  ID_521bd2c3     ID_6f1e75df98      ID_6522c6b55a    0   \n",
       "ID_3a93b98a5.png  ID_8d063d50     ID_21f1b28a61      ID_5520805767    0   \n",
       "\n",
       "                  epidural  intraparenchymal  intraventricular  subarachnoid  \\\n",
       "filename                                                                       \n",
       "ID_4166af295.png         0                 0                 0             0   \n",
       "ID_f428bb3e7.png         0                 0                 0             0   \n",
       "ID_8513fb5cc.png         0                 0                 0             0   \n",
       "ID_3d2d45403.png         0                 0                 0             0   \n",
       "ID_f66deaba0.png         0                 0                 0             0   \n",
       "...                    ...               ...               ...           ...   \n",
       "ID_d0a1e36c4.png         0                 0                 0             0   \n",
       "ID_791b3c7a8.png         0                 0                 0             0   \n",
       "ID_5b6ef0304.png         0                 0                 0             0   \n",
       "ID_35e51829e.png         0                 0                 0             0   \n",
       "ID_3a93b98a5.png         0                 0                 0             0   \n",
       "\n",
       "                  subdural  group  ... x2038     x2039     x2040  x2041  \\\n",
       "filename                           ...                                    \n",
       "ID_4166af295.png         0     37  ...   0.0  0.009118  0.347835    0.0   \n",
       "ID_f428bb3e7.png         0     27  ...   0.0  0.000000  0.443001    0.0   \n",
       "ID_8513fb5cc.png         0     12  ...   0.0  0.000000  0.295009    0.0   \n",
       "ID_3d2d45403.png         1     59  ...   0.0  0.085283  0.868931    0.0   \n",
       "ID_f66deaba0.png         0     19  ...   0.0  0.501021  0.236501    0.0   \n",
       "...                    ...    ...  ...   ...       ...       ...    ...   \n",
       "ID_d0a1e36c4.png         0      6  ...   0.0  0.040701  0.076559    0.0   \n",
       "ID_791b3c7a8.png         0     16  ...   0.0  0.000000  0.393973    0.0   \n",
       "ID_5b6ef0304.png         0     78  ...   0.0  0.000000  0.326547    0.0   \n",
       "ID_35e51829e.png         0     62  ...   0.0  0.112371  0.255401    0.0   \n",
       "ID_3a93b98a5.png         0     44  ...   0.0  0.000000  0.271218    0.0   \n",
       "\n",
       "                     x2042     x2043  x2044  x2045     x2046     x2047  \n",
       "filename                                                                \n",
       "ID_4166af295.png  0.000000  0.000000    0.0    0.0  0.029174  0.000000  \n",
       "ID_f428bb3e7.png  0.000000  0.000000    0.0    0.0  0.001659  0.000000  \n",
       "ID_8513fb5cc.png  0.000000  0.000000    0.0    0.0  0.093052  0.000000  \n",
       "ID_3d2d45403.png  0.000000  0.000000    0.0    0.0  1.091154  0.000000  \n",
       "ID_f66deaba0.png  0.001711  0.000000    0.0    0.0  1.017444  0.000000  \n",
       "...                    ...       ...    ...    ...       ...       ...  \n",
       "ID_d0a1e36c4.png  0.000000  0.000000    0.0    0.0  0.317544  0.000000  \n",
       "ID_791b3c7a8.png  0.000000  0.000000    0.0    0.0  0.012179  0.000000  \n",
       "ID_5b6ef0304.png  0.000000  0.000000    0.0    0.0  0.000000  0.000000  \n",
       "ID_35e51829e.png  0.000000  0.004568    0.0    0.0  0.152474  0.028983  \n",
       "ID_3a93b98a5.png  0.000000  0.000000    0.0    0.0  0.052718  0.000000  \n",
       "\n",
       "[198381 rows x 2059 columns]"
      ]
     },
     "execution_count": 58,
     "metadata": {},
     "output_type": "execute_result"
    }
   ],
   "source": [
    "test_df = pd.DataFrame(\n",
    "    data=X_test,\n",
    "    index=[os.path.basename(f) for f in img_names_test],\n",
    "    columns=[\"x\"+str(i) for i in range(num_features)]\n",
    ")\n",
    "\n",
    "test_splits_csv = 'test_splits_' + str(NUM_SUBJ_PER_SPLIT) + '.csv'\n",
    "tmp_df = pd.read_csv(DATA_BASE_PATH + PNG_DIR + test_splits_csv)\n",
    "tmp_df.set_index(\"filename\", inplace=True)\n",
    "tmp_df = tmp_df[['patient_ID', 'study_instance_ID', 'series_instance_ID', 'any',\n",
    "                 'epidural', 'intraparenchymal', 'intraventricular', 'subarachnoid',\n",
    "                 'subdural', 'group', 'dataset']]\n",
    "test_df = tmp_df.join(test_df)\n",
    "\n",
    "assert np.all(test_df.index.values == np.array([os.path.basename(f) for f in img_names_test]))\n",
    "assert np.all(test_df[\"any\"].values == y_test)\n",
    "\n",
    "test_df"
   ]
  },
  {
   "cell_type": "code",
   "execution_count": 61,
   "metadata": {
    "scrolled": true
   },
   "outputs": [
    {
     "name": "stdout",
     "output_type": "stream",
     "text": [
      "0 - 0: (1946, 2059)\n",
      "1 - 1: (2284, 2059)\n",
      "2 - 2: (2080, 2059)\n",
      "3 - 3: (2014, 2059)\n",
      "4 - 4: (1934, 2059)\n",
      "5 - 5: (1958, 2059)\n",
      "6 - 6: (1905, 2059)\n",
      "7 - 7: (2137, 2059)\n",
      "8 - 8: (2006, 2059)\n",
      "9 - 9: (1937, 2059)\n",
      "10 - 10: (1889, 2059)\n",
      "11 - 11: (1798, 2059)\n",
      "12 - 12: (1969, 2059)\n",
      "13 - 13: (2067, 2059)\n",
      "14 - 14: (2221, 2059)\n",
      "15 - 15: (1875, 2059)\n",
      "16 - 16: (2031, 2059)\n",
      "17 - 17: (2058, 2059)\n",
      "18 - 18: (1842, 2059)\n",
      "19 - 19: (1817, 2059)\n",
      "20 - 20: (2066, 2059)\n",
      "21 - 21: (2003, 2059)\n",
      "22 - 22: (1847, 2059)\n",
      "23 - 23: (1932, 2059)\n",
      "24 - 24: (2029, 2059)\n",
      "25 - 25: (1765, 2059)\n",
      "26 - 26: (1736, 2059)\n",
      "27 - 27: (1874, 2059)\n",
      "28 - 28: (1989, 2059)\n",
      "29 - 29: (1966, 2059)\n",
      "30 - 30: (1913, 2059)\n",
      "31 - 31: (2219, 2059)\n",
      "32 - 32: (1868, 2059)\n",
      "33 - 33: (2007, 2059)\n",
      "34 - 34: (2204, 2059)\n",
      "35 - 35: (2118, 2059)\n",
      "36 - 36: (1924, 2059)\n",
      "37 - 37: (2199, 2059)\n",
      "38 - 38: (2305, 2059)\n",
      "39 - 39: (2018, 2059)\n",
      "40 - 40: (1885, 2059)\n",
      "41 - 41: (1789, 2059)\n",
      "42 - 42: (2471, 2059)\n",
      "43 - 43: (2295, 2059)\n",
      "44 - 44: (1939, 2059)\n",
      "45 - 45: (1866, 2059)\n",
      "46 - 46: (1973, 2059)\n",
      "47 - 47: (1973, 2059)\n",
      "48 - 48: (2082, 2059)\n",
      "49 - 49: (1843, 2059)\n",
      "50 - 50: (2016, 2059)\n",
      "51 - 51: (2105, 2059)\n",
      "52 - 52: (1836, 2059)\n",
      "53 - 53: (1877, 2059)\n",
      "54 - 54: (2024, 2059)\n",
      "55 - 55: (2037, 2059)\n",
      "56 - 56: (1790, 2059)\n",
      "57 - 57: (2023, 2059)\n",
      "58 - 58: (1834, 2059)\n",
      "59 - 59: (1764, 2059)\n",
      "60 - 60: (2063, 2059)\n",
      "61 - 61: (2161, 2059)\n",
      "62 - 62: (1936, 2059)\n",
      "63 - 63: (1872, 2059)\n",
      "64 - 64: (2035, 2059)\n",
      "65 - 65: (2015, 2059)\n",
      "66 - 66: (2346, 2059)\n",
      "67 - 67: (1829, 2059)\n",
      "68 - 68: (1945, 2059)\n",
      "69 - 69: (1985, 2059)\n",
      "70 - 70: (1883, 2059)\n",
      "71 - 71: (2252, 2059)\n",
      "72 - 72: (1860, 2059)\n",
      "73 - 73: (2059, 2059)\n",
      "74 - 74: (1973, 2059)\n",
      "75 - 75: (2211, 2059)\n",
      "76 - 76: (2195, 2059)\n",
      "77 - 77: (1759, 2059)\n",
      "78 - 78: (2281, 2059)\n",
      "79 - 79: (1976, 2059)\n",
      "80 - 80: (1885, 2059)\n",
      "81 - 81: (1839, 2059)\n",
      "82 - 82: (1807, 2059)\n",
      "83 - 83: (1854, 2059)\n",
      "84 - 84: (1768, 2059)\n",
      "85 - 85: (1947, 2059)\n",
      "86 - 86: (2021, 2059)\n",
      "87 - 87: (2221, 2059)\n",
      "88 - 88: (2030, 2059)\n",
      "89 - 89: (1873, 2059)\n",
      "90 - 90: (1957, 2059)\n",
      "91 - 91: (1963, 2059)\n",
      "92 - 92: (1979, 2059)\n",
      "93 - 93: (1779, 2059)\n",
      "94 - 94: (1919, 2059)\n",
      "95 - 95: (1799, 2059)\n",
      "96 - 96: (2090, 2059)\n",
      "97 - 97: (1927, 2059)\n",
      "98 - 98: (1899, 2059)\n",
      "99 - 99: (2016, 2059)\n"
     ]
    }
   ],
   "source": [
    "for i, split_id in enumerate(np.unique(test_df.group.values)):\n",
    "    split_df = test_df.loc[test_df.group == split_id, :]\n",
    "    if DEBUG_MODE:\n",
    "        print(\"{} - {}: {}\".format(i, split_id, split_df.shape))\n",
    "    split_df.to_csv(SAVE_DIR + \"test_{}.csv\".format(split_id))"
   ]
  },
  {
   "cell_type": "code",
   "execution_count": 12,
   "metadata": {},
   "outputs": [
    {
     "data": {
      "text/html": [
       "<div>\n",
       "<style scoped>\n",
       "    .dataframe tbody tr th:only-of-type {\n",
       "        vertical-align: middle;\n",
       "    }\n",
       "\n",
       "    .dataframe tbody tr th {\n",
       "        vertical-align: top;\n",
       "    }\n",
       "\n",
       "    .dataframe thead th {\n",
       "        text-align: right;\n",
       "    }\n",
       "</style>\n",
       "<table border=\"1\" class=\"dataframe\">\n",
       "  <thead>\n",
       "    <tr style=\"text-align: right;\">\n",
       "      <th></th>\n",
       "      <th>patient_ID</th>\n",
       "      <th>study_instance_ID</th>\n",
       "      <th>series_instance_ID</th>\n",
       "      <th>any</th>\n",
       "      <th>epidural</th>\n",
       "      <th>intraparenchymal</th>\n",
       "      <th>intraventricular</th>\n",
       "      <th>subarachnoid</th>\n",
       "      <th>subdural</th>\n",
       "      <th>group</th>\n",
       "      <th>...</th>\n",
       "      <th>x2038</th>\n",
       "      <th>x2039</th>\n",
       "      <th>x2040</th>\n",
       "      <th>x2041</th>\n",
       "      <th>x2042</th>\n",
       "      <th>x2043</th>\n",
       "      <th>x2044</th>\n",
       "      <th>x2045</th>\n",
       "      <th>x2046</th>\n",
       "      <th>x2047</th>\n",
       "    </tr>\n",
       "    <tr>\n",
       "      <th>filename</th>\n",
       "      <th></th>\n",
       "      <th></th>\n",
       "      <th></th>\n",
       "      <th></th>\n",
       "      <th></th>\n",
       "      <th></th>\n",
       "      <th></th>\n",
       "      <th></th>\n",
       "      <th></th>\n",
       "      <th></th>\n",
       "      <th></th>\n",
       "      <th></th>\n",
       "      <th></th>\n",
       "      <th></th>\n",
       "      <th></th>\n",
       "      <th></th>\n",
       "      <th></th>\n",
       "      <th></th>\n",
       "      <th></th>\n",
       "      <th></th>\n",
       "      <th></th>\n",
       "    </tr>\n",
       "  </thead>\n",
       "  <tbody>\n",
       "    <tr>\n",
       "      <td>ID_9905e72aa.png</td>\n",
       "      <td>ID_6b6db689</td>\n",
       "      <td>ID_59997b389c</td>\n",
       "      <td>ID_07e6ba26b7</td>\n",
       "      <td>0</td>\n",
       "      <td>0</td>\n",
       "      <td>0</td>\n",
       "      <td>0</td>\n",
       "      <td>0</td>\n",
       "      <td>0</td>\n",
       "      <td>154</td>\n",
       "      <td>...</td>\n",
       "      <td>0.0</td>\n",
       "      <td>0.083733</td>\n",
       "      <td>0.268626</td>\n",
       "      <td>0.0</td>\n",
       "      <td>0.000489</td>\n",
       "      <td>0.0</td>\n",
       "      <td>0.0</td>\n",
       "      <td>0.0</td>\n",
       "      <td>0.230253</td>\n",
       "      <td>0.0</td>\n",
       "    </tr>\n",
       "    <tr>\n",
       "      <td>ID_cb6cbd668.png</td>\n",
       "      <td>ID_8cccd24b</td>\n",
       "      <td>ID_65aec600cf</td>\n",
       "      <td>ID_693d27318e</td>\n",
       "      <td>0</td>\n",
       "      <td>0</td>\n",
       "      <td>0</td>\n",
       "      <td>0</td>\n",
       "      <td>0</td>\n",
       "      <td>0</td>\n",
       "      <td>99</td>\n",
       "      <td>...</td>\n",
       "      <td>0.0</td>\n",
       "      <td>0.066508</td>\n",
       "      <td>0.466799</td>\n",
       "      <td>0.0</td>\n",
       "      <td>0.000000</td>\n",
       "      <td>0.0</td>\n",
       "      <td>0.0</td>\n",
       "      <td>0.0</td>\n",
       "      <td>0.667561</td>\n",
       "      <td>0.0</td>\n",
       "    </tr>\n",
       "    <tr>\n",
       "      <td>ID_11cb7b39e.png</td>\n",
       "      <td>ID_29b3dc58</td>\n",
       "      <td>ID_13dd543fb6</td>\n",
       "      <td>ID_f2ec368751</td>\n",
       "      <td>0</td>\n",
       "      <td>0</td>\n",
       "      <td>0</td>\n",
       "      <td>0</td>\n",
       "      <td>0</td>\n",
       "      <td>0</td>\n",
       "      <td>27</td>\n",
       "      <td>...</td>\n",
       "      <td>0.0</td>\n",
       "      <td>0.235219</td>\n",
       "      <td>0.543344</td>\n",
       "      <td>0.0</td>\n",
       "      <td>0.003986</td>\n",
       "      <td>0.0</td>\n",
       "      <td>0.0</td>\n",
       "      <td>0.0</td>\n",
       "      <td>0.568465</td>\n",
       "      <td>0.0</td>\n",
       "    </tr>\n",
       "    <tr>\n",
       "      <td>ID_aba36063c.png</td>\n",
       "      <td>ID_5ea5dd51</td>\n",
       "      <td>ID_61431aef67</td>\n",
       "      <td>ID_9a73bc2cfd</td>\n",
       "      <td>1</td>\n",
       "      <td>0</td>\n",
       "      <td>0</td>\n",
       "      <td>1</td>\n",
       "      <td>0</td>\n",
       "      <td>0</td>\n",
       "      <td>38</td>\n",
       "      <td>...</td>\n",
       "      <td>0.0</td>\n",
       "      <td>0.161716</td>\n",
       "      <td>0.517626</td>\n",
       "      <td>0.0</td>\n",
       "      <td>0.000000</td>\n",
       "      <td>0.0</td>\n",
       "      <td>0.0</td>\n",
       "      <td>0.0</td>\n",
       "      <td>0.310524</td>\n",
       "      <td>0.0</td>\n",
       "    </tr>\n",
       "    <tr>\n",
       "      <td>ID_16fcb6d14.png</td>\n",
       "      <td>ID_661994bf</td>\n",
       "      <td>ID_1c6c9c78c8</td>\n",
       "      <td>ID_9dc5f977ac</td>\n",
       "      <td>0</td>\n",
       "      <td>0</td>\n",
       "      <td>0</td>\n",
       "      <td>0</td>\n",
       "      <td>0</td>\n",
       "      <td>0</td>\n",
       "      <td>49</td>\n",
       "      <td>...</td>\n",
       "      <td>0.0</td>\n",
       "      <td>0.004976</td>\n",
       "      <td>0.131847</td>\n",
       "      <td>0.0</td>\n",
       "      <td>0.000000</td>\n",
       "      <td>0.0</td>\n",
       "      <td>0.0</td>\n",
       "      <td>0.0</td>\n",
       "      <td>0.168992</td>\n",
       "      <td>0.0</td>\n",
       "    </tr>\n",
       "    <tr>\n",
       "      <td>...</td>\n",
       "      <td>...</td>\n",
       "      <td>...</td>\n",
       "      <td>...</td>\n",
       "      <td>...</td>\n",
       "      <td>...</td>\n",
       "      <td>...</td>\n",
       "      <td>...</td>\n",
       "      <td>...</td>\n",
       "      <td>...</td>\n",
       "      <td>...</td>\n",
       "      <td>...</td>\n",
       "      <td>...</td>\n",
       "      <td>...</td>\n",
       "      <td>...</td>\n",
       "      <td>...</td>\n",
       "      <td>...</td>\n",
       "      <td>...</td>\n",
       "      <td>...</td>\n",
       "      <td>...</td>\n",
       "      <td>...</td>\n",
       "      <td>...</td>\n",
       "    </tr>\n",
       "    <tr>\n",
       "      <td>ID_689339656.png</td>\n",
       "      <td>ID_bda8996b</td>\n",
       "      <td>ID_cd5a5322ca</td>\n",
       "      <td>ID_8d640abdb3</td>\n",
       "      <td>0</td>\n",
       "      <td>0</td>\n",
       "      <td>0</td>\n",
       "      <td>0</td>\n",
       "      <td>0</td>\n",
       "      <td>0</td>\n",
       "      <td>124</td>\n",
       "      <td>...</td>\n",
       "      <td>0.0</td>\n",
       "      <td>0.011921</td>\n",
       "      <td>0.099976</td>\n",
       "      <td>0.0</td>\n",
       "      <td>0.000000</td>\n",
       "      <td>0.0</td>\n",
       "      <td>0.0</td>\n",
       "      <td>0.0</td>\n",
       "      <td>0.195990</td>\n",
       "      <td>0.0</td>\n",
       "    </tr>\n",
       "    <tr>\n",
       "      <td>ID_8b1e96d9f.png</td>\n",
       "      <td>ID_8facb72b</td>\n",
       "      <td>ID_3d3c4925ad</td>\n",
       "      <td>ID_23a8ecf56e</td>\n",
       "      <td>0</td>\n",
       "      <td>0</td>\n",
       "      <td>0</td>\n",
       "      <td>0</td>\n",
       "      <td>0</td>\n",
       "      <td>0</td>\n",
       "      <td>172</td>\n",
       "      <td>...</td>\n",
       "      <td>0.0</td>\n",
       "      <td>0.000000</td>\n",
       "      <td>0.306544</td>\n",
       "      <td>0.0</td>\n",
       "      <td>0.000000</td>\n",
       "      <td>0.0</td>\n",
       "      <td>0.0</td>\n",
       "      <td>0.0</td>\n",
       "      <td>0.275055</td>\n",
       "      <td>0.0</td>\n",
       "    </tr>\n",
       "    <tr>\n",
       "      <td>ID_5c685fee9.png</td>\n",
       "      <td>ID_12e40fcb</td>\n",
       "      <td>ID_d9289716fa</td>\n",
       "      <td>ID_b32d2017d3</td>\n",
       "      <td>0</td>\n",
       "      <td>0</td>\n",
       "      <td>0</td>\n",
       "      <td>0</td>\n",
       "      <td>0</td>\n",
       "      <td>0</td>\n",
       "      <td>107</td>\n",
       "      <td>...</td>\n",
       "      <td>0.0</td>\n",
       "      <td>0.000000</td>\n",
       "      <td>0.248127</td>\n",
       "      <td>0.0</td>\n",
       "      <td>0.000000</td>\n",
       "      <td>0.0</td>\n",
       "      <td>0.0</td>\n",
       "      <td>0.0</td>\n",
       "      <td>0.000000</td>\n",
       "      <td>0.0</td>\n",
       "    </tr>\n",
       "    <tr>\n",
       "      <td>ID_2d1ba36eb.png</td>\n",
       "      <td>ID_9084a0f3</td>\n",
       "      <td>ID_3186490652</td>\n",
       "      <td>ID_60910114a1</td>\n",
       "      <td>0</td>\n",
       "      <td>0</td>\n",
       "      <td>0</td>\n",
       "      <td>0</td>\n",
       "      <td>0</td>\n",
       "      <td>0</td>\n",
       "      <td>31</td>\n",
       "      <td>...</td>\n",
       "      <td>0.0</td>\n",
       "      <td>0.517925</td>\n",
       "      <td>0.212152</td>\n",
       "      <td>0.0</td>\n",
       "      <td>0.000000</td>\n",
       "      <td>0.0</td>\n",
       "      <td>0.0</td>\n",
       "      <td>0.0</td>\n",
       "      <td>0.597031</td>\n",
       "      <td>0.0</td>\n",
       "    </tr>\n",
       "    <tr>\n",
       "      <td>ID_3f1296df7.png</td>\n",
       "      <td>ID_0833c7df</td>\n",
       "      <td>ID_a5290a3915</td>\n",
       "      <td>ID_3bc853a4b5</td>\n",
       "      <td>1</td>\n",
       "      <td>0</td>\n",
       "      <td>0</td>\n",
       "      <td>0</td>\n",
       "      <td>0</td>\n",
       "      <td>1</td>\n",
       "      <td>126</td>\n",
       "      <td>...</td>\n",
       "      <td>0.0</td>\n",
       "      <td>0.050566</td>\n",
       "      <td>0.372602</td>\n",
       "      <td>0.0</td>\n",
       "      <td>0.000000</td>\n",
       "      <td>0.0</td>\n",
       "      <td>0.0</td>\n",
       "      <td>0.0</td>\n",
       "      <td>1.123825</td>\n",
       "      <td>0.0</td>\n",
       "    </tr>\n",
       "  </tbody>\n",
       "</table>\n",
       "<p>355878 rows × 2059 columns</p>\n",
       "</div>"
      ],
      "text/plain": [
       "                   patient_ID study_instance_ID series_instance_ID  any  \\\n",
       "filename                                                                  \n",
       "ID_9905e72aa.png  ID_6b6db689     ID_59997b389c      ID_07e6ba26b7    0   \n",
       "ID_cb6cbd668.png  ID_8cccd24b     ID_65aec600cf      ID_693d27318e    0   \n",
       "ID_11cb7b39e.png  ID_29b3dc58     ID_13dd543fb6      ID_f2ec368751    0   \n",
       "ID_aba36063c.png  ID_5ea5dd51     ID_61431aef67      ID_9a73bc2cfd    1   \n",
       "ID_16fcb6d14.png  ID_661994bf     ID_1c6c9c78c8      ID_9dc5f977ac    0   \n",
       "...                       ...               ...                ...  ...   \n",
       "ID_689339656.png  ID_bda8996b     ID_cd5a5322ca      ID_8d640abdb3    0   \n",
       "ID_8b1e96d9f.png  ID_8facb72b     ID_3d3c4925ad      ID_23a8ecf56e    0   \n",
       "ID_5c685fee9.png  ID_12e40fcb     ID_d9289716fa      ID_b32d2017d3    0   \n",
       "ID_2d1ba36eb.png  ID_9084a0f3     ID_3186490652      ID_60910114a1    0   \n",
       "ID_3f1296df7.png  ID_0833c7df     ID_a5290a3915      ID_3bc853a4b5    1   \n",
       "\n",
       "                  epidural  intraparenchymal  intraventricular  subarachnoid  \\\n",
       "filename                                                                       \n",
       "ID_9905e72aa.png         0                 0                 0             0   \n",
       "ID_cb6cbd668.png         0                 0                 0             0   \n",
       "ID_11cb7b39e.png         0                 0                 0             0   \n",
       "ID_aba36063c.png         0                 0                 1             0   \n",
       "ID_16fcb6d14.png         0                 0                 0             0   \n",
       "...                    ...               ...               ...           ...   \n",
       "ID_689339656.png         0                 0                 0             0   \n",
       "ID_8b1e96d9f.png         0                 0                 0             0   \n",
       "ID_5c685fee9.png         0                 0                 0             0   \n",
       "ID_2d1ba36eb.png         0                 0                 0             0   \n",
       "ID_3f1296df7.png         0                 0                 0             0   \n",
       "\n",
       "                  subdural  group  ... x2038     x2039     x2040  x2041  \\\n",
       "filename                           ...                                    \n",
       "ID_9905e72aa.png         0    154  ...   0.0  0.083733  0.268626    0.0   \n",
       "ID_cb6cbd668.png         0     99  ...   0.0  0.066508  0.466799    0.0   \n",
       "ID_11cb7b39e.png         0     27  ...   0.0  0.235219  0.543344    0.0   \n",
       "ID_aba36063c.png         0     38  ...   0.0  0.161716  0.517626    0.0   \n",
       "ID_16fcb6d14.png         0     49  ...   0.0  0.004976  0.131847    0.0   \n",
       "...                    ...    ...  ...   ...       ...       ...    ...   \n",
       "ID_689339656.png         0    124  ...   0.0  0.011921  0.099976    0.0   \n",
       "ID_8b1e96d9f.png         0    172  ...   0.0  0.000000  0.306544    0.0   \n",
       "ID_5c685fee9.png         0    107  ...   0.0  0.000000  0.248127    0.0   \n",
       "ID_2d1ba36eb.png         0     31  ...   0.0  0.517925  0.212152    0.0   \n",
       "ID_3f1296df7.png         1    126  ...   0.0  0.050566  0.372602    0.0   \n",
       "\n",
       "                     x2042  x2043  x2044  x2045     x2046  x2047  \n",
       "filename                                                          \n",
       "ID_9905e72aa.png  0.000489    0.0    0.0    0.0  0.230253    0.0  \n",
       "ID_cb6cbd668.png  0.000000    0.0    0.0    0.0  0.667561    0.0  \n",
       "ID_11cb7b39e.png  0.003986    0.0    0.0    0.0  0.568465    0.0  \n",
       "ID_aba36063c.png  0.000000    0.0    0.0    0.0  0.310524    0.0  \n",
       "ID_16fcb6d14.png  0.000000    0.0    0.0    0.0  0.168992    0.0  \n",
       "...                    ...    ...    ...    ...       ...    ...  \n",
       "ID_689339656.png  0.000000    0.0    0.0    0.0  0.195990    0.0  \n",
       "ID_8b1e96d9f.png  0.000000    0.0    0.0    0.0  0.275055    0.0  \n",
       "ID_5c685fee9.png  0.000000    0.0    0.0    0.0  0.000000    0.0  \n",
       "ID_2d1ba36eb.png  0.000000    0.0    0.0    0.0  0.597031    0.0  \n",
       "ID_3f1296df7.png  0.000000    0.0    0.0    0.0  1.123825    0.0  \n",
       "\n",
       "[355878 rows x 2059 columns]"
      ]
     },
     "execution_count": 12,
     "metadata": {},
     "output_type": "execute_result"
    }
   ],
   "source": [
    "lockbox_df = pd.DataFrame(\n",
    "    data=X_lockbox,\n",
    "    index=[os.path.basename(f) for f in img_names_lockbox],\n",
    "    columns=[\"x\"+str(i) for i in range(num_features)]\n",
    ")\n",
    "\n",
    "lockbox_splits_csv = 'lockbox_splits_' + str(NUM_SUBJ_PER_SPLIT) + '.csv'\n",
    "tmp_df = pd.read_csv(DATA_BASE_PATH + PNG_DIR + lockbox_splits_csv)\n",
    "tmp_df.set_index(\"filename\", inplace=True)\n",
    "tmp_df = tmp_df[['patient_ID', 'study_instance_ID', 'series_instance_ID', 'any',\n",
    "                 'epidural', 'intraparenchymal', 'intraventricular', 'subarachnoid',\n",
    "                 'subdural', 'group', 'dataset']]\n",
    "lockbox_df = tmp_df.join(lockbox_df)\n",
    "\n",
    "assert np.all(lockbox_df.index.values == np.array([os.path.basename(f) for f in img_names_lockbox]))\n",
    "assert np.all(lockbox_df[\"any\"].values == y_lockbox)\n",
    "\n",
    "lockbox_df"
   ]
  },
  {
   "cell_type": "code",
   "execution_count": 13,
   "metadata": {},
   "outputs": [],
   "source": [
    "lockbox_df.to_csv(SAVE_DIR + \"lockbox.csv\")"
   ]
  },
  {
   "cell_type": "markdown",
   "metadata": {},
   "source": [
    "Also save a smaller lockbox dataset:"
   ]
  },
  {
   "cell_type": "code",
   "execution_count": 14,
   "metadata": {
    "scrolled": true
   },
   "outputs": [
    {
     "data": {
      "text/html": [
       "<div>\n",
       "<style scoped>\n",
       "    .dataframe tbody tr th:only-of-type {\n",
       "        vertical-align: middle;\n",
       "    }\n",
       "\n",
       "    .dataframe tbody tr th {\n",
       "        vertical-align: top;\n",
       "    }\n",
       "\n",
       "    .dataframe thead th {\n",
       "        text-align: right;\n",
       "    }\n",
       "</style>\n",
       "<table border=\"1\" class=\"dataframe\">\n",
       "  <thead>\n",
       "    <tr style=\"text-align: right;\">\n",
       "      <th></th>\n",
       "      <th>patient_ID</th>\n",
       "      <th>study_instance_ID</th>\n",
       "      <th>series_instance_ID</th>\n",
       "      <th>any</th>\n",
       "      <th>epidural</th>\n",
       "      <th>intraparenchymal</th>\n",
       "      <th>intraventricular</th>\n",
       "      <th>subarachnoid</th>\n",
       "      <th>subdural</th>\n",
       "      <th>group</th>\n",
       "      <th>...</th>\n",
       "      <th>x2038</th>\n",
       "      <th>x2039</th>\n",
       "      <th>x2040</th>\n",
       "      <th>x2041</th>\n",
       "      <th>x2042</th>\n",
       "      <th>x2043</th>\n",
       "      <th>x2044</th>\n",
       "      <th>x2045</th>\n",
       "      <th>x2046</th>\n",
       "      <th>x2047</th>\n",
       "    </tr>\n",
       "    <tr>\n",
       "      <th>filename</th>\n",
       "      <th></th>\n",
       "      <th></th>\n",
       "      <th></th>\n",
       "      <th></th>\n",
       "      <th></th>\n",
       "      <th></th>\n",
       "      <th></th>\n",
       "      <th></th>\n",
       "      <th></th>\n",
       "      <th></th>\n",
       "      <th></th>\n",
       "      <th></th>\n",
       "      <th></th>\n",
       "      <th></th>\n",
       "      <th></th>\n",
       "      <th></th>\n",
       "      <th></th>\n",
       "      <th></th>\n",
       "      <th></th>\n",
       "      <th></th>\n",
       "      <th></th>\n",
       "    </tr>\n",
       "  </thead>\n",
       "  <tbody>\n",
       "    <tr>\n",
       "      <td>ID_2207dfcee.png</td>\n",
       "      <td>ID_a6acd683</td>\n",
       "      <td>ID_99d7b5a014</td>\n",
       "      <td>ID_e76ec0e5ad</td>\n",
       "      <td>0</td>\n",
       "      <td>0</td>\n",
       "      <td>0</td>\n",
       "      <td>0</td>\n",
       "      <td>0</td>\n",
       "      <td>0</td>\n",
       "      <td>153</td>\n",
       "      <td>...</td>\n",
       "      <td>0.0</td>\n",
       "      <td>0.000000</td>\n",
       "      <td>0.272080</td>\n",
       "      <td>0.000000</td>\n",
       "      <td>0.0</td>\n",
       "      <td>0.0</td>\n",
       "      <td>0.0</td>\n",
       "      <td>0.0</td>\n",
       "      <td>0.034274</td>\n",
       "      <td>0.0</td>\n",
       "    </tr>\n",
       "    <tr>\n",
       "      <td>ID_ef12c5f05.png</td>\n",
       "      <td>ID_cbdb1ce3</td>\n",
       "      <td>ID_8ae06d7228</td>\n",
       "      <td>ID_d81bbf8bf0</td>\n",
       "      <td>0</td>\n",
       "      <td>0</td>\n",
       "      <td>0</td>\n",
       "      <td>0</td>\n",
       "      <td>0</td>\n",
       "      <td>0</td>\n",
       "      <td>3</td>\n",
       "      <td>...</td>\n",
       "      <td>0.0</td>\n",
       "      <td>0.143045</td>\n",
       "      <td>0.127068</td>\n",
       "      <td>0.000000</td>\n",
       "      <td>0.0</td>\n",
       "      <td>0.0</td>\n",
       "      <td>0.0</td>\n",
       "      <td>0.0</td>\n",
       "      <td>0.576096</td>\n",
       "      <td>0.0</td>\n",
       "    </tr>\n",
       "    <tr>\n",
       "      <td>ID_fdbf03ecb.png</td>\n",
       "      <td>ID_c65d55c5</td>\n",
       "      <td>ID_c96695a840</td>\n",
       "      <td>ID_4842e96efe</td>\n",
       "      <td>0</td>\n",
       "      <td>0</td>\n",
       "      <td>0</td>\n",
       "      <td>0</td>\n",
       "      <td>0</td>\n",
       "      <td>0</td>\n",
       "      <td>5</td>\n",
       "      <td>...</td>\n",
       "      <td>0.0</td>\n",
       "      <td>0.038988</td>\n",
       "      <td>0.200112</td>\n",
       "      <td>0.001721</td>\n",
       "      <td>0.0</td>\n",
       "      <td>0.0</td>\n",
       "      <td>0.0</td>\n",
       "      <td>0.0</td>\n",
       "      <td>0.717783</td>\n",
       "      <td>0.0</td>\n",
       "    </tr>\n",
       "    <tr>\n",
       "      <td>ID_874d35e7a.png</td>\n",
       "      <td>ID_8963803b</td>\n",
       "      <td>ID_3eccfac1c1</td>\n",
       "      <td>ID_460d9592b1</td>\n",
       "      <td>0</td>\n",
       "      <td>0</td>\n",
       "      <td>0</td>\n",
       "      <td>0</td>\n",
       "      <td>0</td>\n",
       "      <td>0</td>\n",
       "      <td>119</td>\n",
       "      <td>...</td>\n",
       "      <td>0.0</td>\n",
       "      <td>0.042526</td>\n",
       "      <td>0.164795</td>\n",
       "      <td>0.000000</td>\n",
       "      <td>0.0</td>\n",
       "      <td>0.0</td>\n",
       "      <td>0.0</td>\n",
       "      <td>0.0</td>\n",
       "      <td>0.052238</td>\n",
       "      <td>0.0</td>\n",
       "    </tr>\n",
       "    <tr>\n",
       "      <td>ID_5979913ff.png</td>\n",
       "      <td>ID_2a359e53</td>\n",
       "      <td>ID_7e37ae1012</td>\n",
       "      <td>ID_3c49f68a78</td>\n",
       "      <td>0</td>\n",
       "      <td>0</td>\n",
       "      <td>0</td>\n",
       "      <td>0</td>\n",
       "      <td>0</td>\n",
       "      <td>0</td>\n",
       "      <td>107</td>\n",
       "      <td>...</td>\n",
       "      <td>0.0</td>\n",
       "      <td>0.218594</td>\n",
       "      <td>0.280462</td>\n",
       "      <td>0.000000</td>\n",
       "      <td>0.0</td>\n",
       "      <td>0.0</td>\n",
       "      <td>0.0</td>\n",
       "      <td>0.0</td>\n",
       "      <td>0.147246</td>\n",
       "      <td>0.0</td>\n",
       "    </tr>\n",
       "    <tr>\n",
       "      <td>...</td>\n",
       "      <td>...</td>\n",
       "      <td>...</td>\n",
       "      <td>...</td>\n",
       "      <td>...</td>\n",
       "      <td>...</td>\n",
       "      <td>...</td>\n",
       "      <td>...</td>\n",
       "      <td>...</td>\n",
       "      <td>...</td>\n",
       "      <td>...</td>\n",
       "      <td>...</td>\n",
       "      <td>...</td>\n",
       "      <td>...</td>\n",
       "      <td>...</td>\n",
       "      <td>...</td>\n",
       "      <td>...</td>\n",
       "      <td>...</td>\n",
       "      <td>...</td>\n",
       "      <td>...</td>\n",
       "      <td>...</td>\n",
       "      <td>...</td>\n",
       "    </tr>\n",
       "    <tr>\n",
       "      <td>ID_456ad4225.png</td>\n",
       "      <td>ID_98f31fae</td>\n",
       "      <td>ID_7d2cae80c2</td>\n",
       "      <td>ID_8ca7d6502e</td>\n",
       "      <td>0</td>\n",
       "      <td>0</td>\n",
       "      <td>0</td>\n",
       "      <td>0</td>\n",
       "      <td>0</td>\n",
       "      <td>0</td>\n",
       "      <td>109</td>\n",
       "      <td>...</td>\n",
       "      <td>0.0</td>\n",
       "      <td>0.000000</td>\n",
       "      <td>0.559203</td>\n",
       "      <td>0.000000</td>\n",
       "      <td>0.0</td>\n",
       "      <td>0.0</td>\n",
       "      <td>0.0</td>\n",
       "      <td>0.0</td>\n",
       "      <td>0.013040</td>\n",
       "      <td>0.0</td>\n",
       "    </tr>\n",
       "    <tr>\n",
       "      <td>ID_37a048333.png</td>\n",
       "      <td>ID_65eacd81</td>\n",
       "      <td>ID_cc029c22cd</td>\n",
       "      <td>ID_c7a2130286</td>\n",
       "      <td>0</td>\n",
       "      <td>0</td>\n",
       "      <td>0</td>\n",
       "      <td>0</td>\n",
       "      <td>0</td>\n",
       "      <td>0</td>\n",
       "      <td>23</td>\n",
       "      <td>...</td>\n",
       "      <td>0.0</td>\n",
       "      <td>0.000000</td>\n",
       "      <td>0.311037</td>\n",
       "      <td>0.000000</td>\n",
       "      <td>0.0</td>\n",
       "      <td>0.0</td>\n",
       "      <td>0.0</td>\n",
       "      <td>0.0</td>\n",
       "      <td>0.352713</td>\n",
       "      <td>0.0</td>\n",
       "    </tr>\n",
       "    <tr>\n",
       "      <td>ID_e0cf229df.png</td>\n",
       "      <td>ID_74e102b8</td>\n",
       "      <td>ID_0c22607688</td>\n",
       "      <td>ID_3bfc85e84f</td>\n",
       "      <td>0</td>\n",
       "      <td>0</td>\n",
       "      <td>0</td>\n",
       "      <td>0</td>\n",
       "      <td>0</td>\n",
       "      <td>0</td>\n",
       "      <td>24</td>\n",
       "      <td>...</td>\n",
       "      <td>0.0</td>\n",
       "      <td>0.000000</td>\n",
       "      <td>0.358246</td>\n",
       "      <td>0.000000</td>\n",
       "      <td>0.0</td>\n",
       "      <td>0.0</td>\n",
       "      <td>0.0</td>\n",
       "      <td>0.0</td>\n",
       "      <td>0.000000</td>\n",
       "      <td>0.0</td>\n",
       "    </tr>\n",
       "    <tr>\n",
       "      <td>ID_4167d3e8f.png</td>\n",
       "      <td>ID_4023983d</td>\n",
       "      <td>ID_dce84ac0fb</td>\n",
       "      <td>ID_79b25dbce6</td>\n",
       "      <td>0</td>\n",
       "      <td>0</td>\n",
       "      <td>0</td>\n",
       "      <td>0</td>\n",
       "      <td>0</td>\n",
       "      <td>0</td>\n",
       "      <td>159</td>\n",
       "      <td>...</td>\n",
       "      <td>0.0</td>\n",
       "      <td>0.004985</td>\n",
       "      <td>0.127366</td>\n",
       "      <td>0.000000</td>\n",
       "      <td>0.0</td>\n",
       "      <td>0.0</td>\n",
       "      <td>0.0</td>\n",
       "      <td>0.0</td>\n",
       "      <td>0.086395</td>\n",
       "      <td>0.0</td>\n",
       "    </tr>\n",
       "    <tr>\n",
       "      <td>ID_6d47cd662.png</td>\n",
       "      <td>ID_513aee23</td>\n",
       "      <td>ID_645f1e6fa3</td>\n",
       "      <td>ID_81e0f9a5ce</td>\n",
       "      <td>0</td>\n",
       "      <td>0</td>\n",
       "      <td>0</td>\n",
       "      <td>0</td>\n",
       "      <td>0</td>\n",
       "      <td>0</td>\n",
       "      <td>158</td>\n",
       "      <td>...</td>\n",
       "      <td>0.0</td>\n",
       "      <td>0.002635</td>\n",
       "      <td>0.107683</td>\n",
       "      <td>0.000000</td>\n",
       "      <td>0.0</td>\n",
       "      <td>0.0</td>\n",
       "      <td>0.0</td>\n",
       "      <td>0.0</td>\n",
       "      <td>0.212292</td>\n",
       "      <td>0.0</td>\n",
       "    </tr>\n",
       "  </tbody>\n",
       "</table>\n",
       "<p>100000 rows × 2059 columns</p>\n",
       "</div>"
      ],
      "text/plain": [
       "                   patient_ID study_instance_ID series_instance_ID  any  \\\n",
       "filename                                                                  \n",
       "ID_2207dfcee.png  ID_a6acd683     ID_99d7b5a014      ID_e76ec0e5ad    0   \n",
       "ID_ef12c5f05.png  ID_cbdb1ce3     ID_8ae06d7228      ID_d81bbf8bf0    0   \n",
       "ID_fdbf03ecb.png  ID_c65d55c5     ID_c96695a840      ID_4842e96efe    0   \n",
       "ID_874d35e7a.png  ID_8963803b     ID_3eccfac1c1      ID_460d9592b1    0   \n",
       "ID_5979913ff.png  ID_2a359e53     ID_7e37ae1012      ID_3c49f68a78    0   \n",
       "...                       ...               ...                ...  ...   \n",
       "ID_456ad4225.png  ID_98f31fae     ID_7d2cae80c2      ID_8ca7d6502e    0   \n",
       "ID_37a048333.png  ID_65eacd81     ID_cc029c22cd      ID_c7a2130286    0   \n",
       "ID_e0cf229df.png  ID_74e102b8     ID_0c22607688      ID_3bfc85e84f    0   \n",
       "ID_4167d3e8f.png  ID_4023983d     ID_dce84ac0fb      ID_79b25dbce6    0   \n",
       "ID_6d47cd662.png  ID_513aee23     ID_645f1e6fa3      ID_81e0f9a5ce    0   \n",
       "\n",
       "                  epidural  intraparenchymal  intraventricular  subarachnoid  \\\n",
       "filename                                                                       \n",
       "ID_2207dfcee.png         0                 0                 0             0   \n",
       "ID_ef12c5f05.png         0                 0                 0             0   \n",
       "ID_fdbf03ecb.png         0                 0                 0             0   \n",
       "ID_874d35e7a.png         0                 0                 0             0   \n",
       "ID_5979913ff.png         0                 0                 0             0   \n",
       "...                    ...               ...               ...           ...   \n",
       "ID_456ad4225.png         0                 0                 0             0   \n",
       "ID_37a048333.png         0                 0                 0             0   \n",
       "ID_e0cf229df.png         0                 0                 0             0   \n",
       "ID_4167d3e8f.png         0                 0                 0             0   \n",
       "ID_6d47cd662.png         0                 0                 0             0   \n",
       "\n",
       "                  subdural  group  ... x2038     x2039     x2040     x2041  \\\n",
       "filename                           ...                                       \n",
       "ID_2207dfcee.png         0    153  ...   0.0  0.000000  0.272080  0.000000   \n",
       "ID_ef12c5f05.png         0      3  ...   0.0  0.143045  0.127068  0.000000   \n",
       "ID_fdbf03ecb.png         0      5  ...   0.0  0.038988  0.200112  0.001721   \n",
       "ID_874d35e7a.png         0    119  ...   0.0  0.042526  0.164795  0.000000   \n",
       "ID_5979913ff.png         0    107  ...   0.0  0.218594  0.280462  0.000000   \n",
       "...                    ...    ...  ...   ...       ...       ...       ...   \n",
       "ID_456ad4225.png         0    109  ...   0.0  0.000000  0.559203  0.000000   \n",
       "ID_37a048333.png         0     23  ...   0.0  0.000000  0.311037  0.000000   \n",
       "ID_e0cf229df.png         0     24  ...   0.0  0.000000  0.358246  0.000000   \n",
       "ID_4167d3e8f.png         0    159  ...   0.0  0.004985  0.127366  0.000000   \n",
       "ID_6d47cd662.png         0    158  ...   0.0  0.002635  0.107683  0.000000   \n",
       "\n",
       "                  x2042  x2043  x2044  x2045     x2046  x2047  \n",
       "filename                                                       \n",
       "ID_2207dfcee.png    0.0    0.0    0.0    0.0  0.034274    0.0  \n",
       "ID_ef12c5f05.png    0.0    0.0    0.0    0.0  0.576096    0.0  \n",
       "ID_fdbf03ecb.png    0.0    0.0    0.0    0.0  0.717783    0.0  \n",
       "ID_874d35e7a.png    0.0    0.0    0.0    0.0  0.052238    0.0  \n",
       "ID_5979913ff.png    0.0    0.0    0.0    0.0  0.147246    0.0  \n",
       "...                 ...    ...    ...    ...       ...    ...  \n",
       "ID_456ad4225.png    0.0    0.0    0.0    0.0  0.013040    0.0  \n",
       "ID_37a048333.png    0.0    0.0    0.0    0.0  0.352713    0.0  \n",
       "ID_e0cf229df.png    0.0    0.0    0.0    0.0  0.000000    0.0  \n",
       "ID_4167d3e8f.png    0.0    0.0    0.0    0.0  0.086395    0.0  \n",
       "ID_6d47cd662.png    0.0    0.0    0.0    0.0  0.212292    0.0  \n",
       "\n",
       "[100000 rows x 2059 columns]"
      ]
     },
     "execution_count": 14,
     "metadata": {},
     "output_type": "execute_result"
    }
   ],
   "source": [
    "NUM = 100_000\n",
    "random.seed(RANDOM_SEED)\n",
    "selection = random.sample(range(lockbox_df.shape[0]), NUM)\n",
    "lockbox_small = lockbox_df.iloc[selection, :]\n",
    "lockbox_small"
   ]
  },
  {
   "cell_type": "code",
   "execution_count": 15,
   "metadata": {},
   "outputs": [],
   "source": [
    "lockbox_small.to_csv(SAVE_DIR + \"lockbox_small.csv\")"
   ]
  },
  {
   "cell_type": "code",
   "execution_count": 16,
   "metadata": {},
   "outputs": [
    {
     "data": {
      "text/plain": [
       "0.14512"
      ]
     },
     "execution_count": 16,
     "metadata": {},
     "output_type": "execute_result"
    }
   ],
   "source": [
    "lockbox_small['any'].sum() / NUM"
   ]
  }
 ],
 "metadata": {
  "kernelspec": {
   "display_name": "Python 3",
   "language": "python",
   "name": "python3"
  },
  "language_info": {
   "codemirror_mode": {
    "name": "ipython",
    "version": 3
   },
   "file_extension": ".py",
   "mimetype": "text/x-python",
   "name": "python",
   "nbconvert_exporter": "python",
   "pygments_lexer": "ipython3",
   "version": "3.6.9"
  }
 },
 "nbformat": 4,
 "nbformat_minor": 4
}

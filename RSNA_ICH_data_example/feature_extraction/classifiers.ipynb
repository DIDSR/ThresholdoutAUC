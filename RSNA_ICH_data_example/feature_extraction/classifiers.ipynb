{
 "cells": [
  {
   "cell_type": "markdown",
   "metadata": {},
   "source": [
    "# Kaggle RSNA Intracranial Hemorrhage Detection example"
   ]
  },
  {
   "cell_type": "code",
   "execution_count": 11,
   "metadata": {},
   "outputs": [],
   "source": [
    "from functools import reduce\n",
    "import os\n",
    "import pickle\n",
    "import random\n",
    "\n",
    "from matplotlib import pyplot as plt\n",
    "import numpy as np\n",
    "import pandas as pd\n",
    "\n",
    "from features import CNNFeatureExtractor"
   ]
  },
  {
   "cell_type": "code",
   "execution_count": 2,
   "metadata": {},
   "outputs": [],
   "source": [
    "from sklearn.linear_model import LogisticRegression, LogisticRegressionCV\n",
    "from sklearn.metrics import roc_auc_score\n",
    "from sklearn import preprocessing\n",
    "from sklearn.model_selection import StratifiedKFold"
   ]
  },
  {
   "cell_type": "code",
   "execution_count": 3,
   "metadata": {},
   "outputs": [],
   "source": [
    "RANDOM_SEED = 2020\n",
    "DEBUG_MODE = True\n",
    "\n",
    "DATA_BASE_PATH = '/data/'\n",
    "PNG_DIR = 'png_256/'\n",
    "NUM_SUBJ_PER_SPLIT = 50\n",
    "\n",
    "IMG_DIR = DATA_BASE_PATH + PNG_DIR + \"train\"\n",
    "SAVE_DIR = DATA_BASE_PATH + \"png_256_resnet50features/\" + str(NUM_SUBJ_PER_SPLIT) + \"_subj_per_split/\""
   ]
  },
  {
   "cell_type": "markdown",
   "metadata": {},
   "source": [
    "## Load the image feature datasets"
   ]
  },
  {
   "cell_type": "code",
   "execution_count": 4,
   "metadata": {},
   "outputs": [],
   "source": [
    "with open(SAVE_DIR + \"features_train.npy\", \"rb\") as f:\n",
    "    X_train = np.load(f)\n",
    "    img_names_train = np.load(f)\n",
    "    \n",
    "with open(SAVE_DIR + \"features_test.npy\", \"rb\") as f:\n",
    "    X_test = np.load(f)\n",
    "    img_names_test = np.load(f)\n",
    "\n",
    "with open(SAVE_DIR + \"features_lockbox.npy\", \"rb\") as f:\n",
    "    X_lockbox = np.load(f)\n",
    "    img_names_lockbox = np.load(f)"
   ]
  },
  {
   "cell_type": "markdown",
   "metadata": {},
   "source": [
    "## Load the image labels"
   ]
  },
  {
   "cell_type": "code",
   "execution_count": 5,
   "metadata": {
    "scrolled": true
   },
   "outputs": [],
   "source": [
    "labels_df = pd.read_csv(DATA_BASE_PATH + PNG_DIR + 'pivot_df.csv')\n",
    "del labels_df['Unnamed: 0']\n",
    "labels_df = labels_df.set_index('filename')"
   ]
  },
  {
   "cell_type": "code",
   "execution_count": 6,
   "metadata": {},
   "outputs": [
    {
     "data": {
      "text/html": [
       "<div>\n",
       "<style scoped>\n",
       "    .dataframe tbody tr th:only-of-type {\n",
       "        vertical-align: middle;\n",
       "    }\n",
       "\n",
       "    .dataframe tbody tr th {\n",
       "        vertical-align: top;\n",
       "    }\n",
       "\n",
       "    .dataframe thead th {\n",
       "        text-align: right;\n",
       "    }\n",
       "</style>\n",
       "<table border=\"1\" class=\"dataframe\">\n",
       "  <thead>\n",
       "    <tr style=\"text-align: right;\">\n",
       "      <th></th>\n",
       "      <th>any</th>\n",
       "      <th>epidural</th>\n",
       "      <th>intraparenchymal</th>\n",
       "      <th>intraventricular</th>\n",
       "      <th>subarachnoid</th>\n",
       "      <th>subdural</th>\n",
       "    </tr>\n",
       "    <tr>\n",
       "      <th>filename</th>\n",
       "      <th></th>\n",
       "      <th></th>\n",
       "      <th></th>\n",
       "      <th></th>\n",
       "      <th></th>\n",
       "      <th></th>\n",
       "    </tr>\n",
       "  </thead>\n",
       "  <tbody>\n",
       "    <tr>\n",
       "      <td>ID_4166af295.png</td>\n",
       "      <td>0</td>\n",
       "      <td>0</td>\n",
       "      <td>0</td>\n",
       "      <td>0</td>\n",
       "      <td>0</td>\n",
       "      <td>0</td>\n",
       "    </tr>\n",
       "    <tr>\n",
       "      <td>ID_f428bb3e7.png</td>\n",
       "      <td>0</td>\n",
       "      <td>0</td>\n",
       "      <td>0</td>\n",
       "      <td>0</td>\n",
       "      <td>0</td>\n",
       "      <td>0</td>\n",
       "    </tr>\n",
       "    <tr>\n",
       "      <td>ID_8513fb5cc.png</td>\n",
       "      <td>0</td>\n",
       "      <td>0</td>\n",
       "      <td>0</td>\n",
       "      <td>0</td>\n",
       "      <td>0</td>\n",
       "      <td>0</td>\n",
       "    </tr>\n",
       "    <tr>\n",
       "      <td>ID_3d2d45403.png</td>\n",
       "      <td>1</td>\n",
       "      <td>0</td>\n",
       "      <td>0</td>\n",
       "      <td>0</td>\n",
       "      <td>0</td>\n",
       "      <td>1</td>\n",
       "    </tr>\n",
       "    <tr>\n",
       "      <td>ID_f66deaba0.png</td>\n",
       "      <td>0</td>\n",
       "      <td>0</td>\n",
       "      <td>0</td>\n",
       "      <td>0</td>\n",
       "      <td>0</td>\n",
       "      <td>0</td>\n",
       "    </tr>\n",
       "    <tr>\n",
       "      <td>...</td>\n",
       "      <td>...</td>\n",
       "      <td>...</td>\n",
       "      <td>...</td>\n",
       "      <td>...</td>\n",
       "      <td>...</td>\n",
       "      <td>...</td>\n",
       "    </tr>\n",
       "    <tr>\n",
       "      <td>ID_d0a1e36c4.png</td>\n",
       "      <td>0</td>\n",
       "      <td>0</td>\n",
       "      <td>0</td>\n",
       "      <td>0</td>\n",
       "      <td>0</td>\n",
       "      <td>0</td>\n",
       "    </tr>\n",
       "    <tr>\n",
       "      <td>ID_791b3c7a8.png</td>\n",
       "      <td>0</td>\n",
       "      <td>0</td>\n",
       "      <td>0</td>\n",
       "      <td>0</td>\n",
       "      <td>0</td>\n",
       "      <td>0</td>\n",
       "    </tr>\n",
       "    <tr>\n",
       "      <td>ID_5b6ef0304.png</td>\n",
       "      <td>0</td>\n",
       "      <td>0</td>\n",
       "      <td>0</td>\n",
       "      <td>0</td>\n",
       "      <td>0</td>\n",
       "      <td>0</td>\n",
       "    </tr>\n",
       "    <tr>\n",
       "      <td>ID_35e51829e.png</td>\n",
       "      <td>0</td>\n",
       "      <td>0</td>\n",
       "      <td>0</td>\n",
       "      <td>0</td>\n",
       "      <td>0</td>\n",
       "      <td>0</td>\n",
       "    </tr>\n",
       "    <tr>\n",
       "      <td>ID_3a93b98a5.png</td>\n",
       "      <td>0</td>\n",
       "      <td>0</td>\n",
       "      <td>0</td>\n",
       "      <td>0</td>\n",
       "      <td>0</td>\n",
       "      <td>0</td>\n",
       "    </tr>\n",
       "  </tbody>\n",
       "</table>\n",
       "<p>198381 rows × 6 columns</p>\n",
       "</div>"
      ],
      "text/plain": [
       "                  any  epidural  intraparenchymal  intraventricular  \\\n",
       "filename                                                              \n",
       "ID_4166af295.png    0         0                 0                 0   \n",
       "ID_f428bb3e7.png    0         0                 0                 0   \n",
       "ID_8513fb5cc.png    0         0                 0                 0   \n",
       "ID_3d2d45403.png    1         0                 0                 0   \n",
       "ID_f66deaba0.png    0         0                 0                 0   \n",
       "...               ...       ...               ...               ...   \n",
       "ID_d0a1e36c4.png    0         0                 0                 0   \n",
       "ID_791b3c7a8.png    0         0                 0                 0   \n",
       "ID_5b6ef0304.png    0         0                 0                 0   \n",
       "ID_35e51829e.png    0         0                 0                 0   \n",
       "ID_3a93b98a5.png    0         0                 0                 0   \n",
       "\n",
       "                  subarachnoid  subdural  \n",
       "filename                                  \n",
       "ID_4166af295.png             0         0  \n",
       "ID_f428bb3e7.png             0         0  \n",
       "ID_8513fb5cc.png             0         0  \n",
       "ID_3d2d45403.png             0         1  \n",
       "ID_f66deaba0.png             0         0  \n",
       "...                        ...       ...  \n",
       "ID_d0a1e36c4.png             0         0  \n",
       "ID_791b3c7a8.png             0         0  \n",
       "ID_5b6ef0304.png             0         0  \n",
       "ID_35e51829e.png             0         0  \n",
       "ID_3a93b98a5.png             0         0  \n",
       "\n",
       "[198381 rows x 6 columns]"
      ]
     },
     "execution_count": 6,
     "metadata": {},
     "output_type": "execute_result"
    }
   ],
   "source": [
    "labels_train_df = labels_df.loc[[os.path.basename(f) for f in img_names_train]]\n",
    "labels_test_df = labels_df.loc[[os.path.basename(f) for f in img_names_test]]\n",
    "labels_lockbox_df = labels_df.loc[[os.path.basename(f) for f in img_names_lockbox]]\n",
    "\n",
    "labels_test_df"
   ]
  },
  {
   "cell_type": "code",
   "execution_count": 7,
   "metadata": {},
   "outputs": [
    {
     "data": {
      "text/plain": [
       "array([0, 0, 0, ..., 0, 0, 0])"
      ]
     },
     "execution_count": 7,
     "metadata": {},
     "output_type": "execute_result"
    }
   ],
   "source": [
    "y_train = labels_train_df[\"any\"].values\n",
    "y_test = labels_test_df[\"any\"].values\n",
    "y_lockbox = labels_lockbox_df[\"any\"].values\n",
    "y_train"
   ]
  },
  {
   "cell_type": "markdown",
   "metadata": {},
   "source": [
    "Final data matrices and label vectors:"
   ]
  },
  {
   "cell_type": "code",
   "execution_count": 8,
   "metadata": {},
   "outputs": [
    {
     "name": "stdout",
     "output_type": "stream",
     "text": [
      "(198543, 2048) (198381, 2048) (355878, 2048) (198543,) (198381,) (355878,)\n"
     ]
    }
   ],
   "source": [
    "print(X_train.shape, X_test.shape, X_lockbox.shape,\n",
    "      y_train.shape, y_test.shape, y_lockbox.shape)"
   ]
  },
  {
   "cell_type": "markdown",
   "metadata": {},
   "source": [
    "## Fit a logistic regression classifier on the training data"
   ]
  },
  {
   "cell_type": "markdown",
   "metadata": {},
   "source": [
    "Feature standardization prior to logistic regression"
   ]
  },
  {
   "cell_type": "code",
   "execution_count": 9,
   "metadata": {},
   "outputs": [],
   "source": [
    "scaler = preprocessing.StandardScaler().fit(X_train)\n",
    "X_train_scaled = scaler.transform(X_train)\n",
    "X_test_scaled = scaler.transform(X_test)\n",
    "X_lockbox_scaled = scaler.transform(X_lockbox)"
   ]
  },
  {
   "cell_type": "markdown",
   "metadata": {},
   "source": [
    "### First fit a model without regularization"
   ]
  },
  {
   "cell_type": "code",
   "execution_count": 38,
   "metadata": {},
   "outputs": [
    {
     "data": {
      "text/plain": [
       "LogisticRegression(C=1.0, class_weight=None, dual=False, fit_intercept=True,\n",
       "                   intercept_scaling=1, l1_ratio=None, max_iter=10000,\n",
       "                   multi_class='warn', n_jobs=None, penalty='none',\n",
       "                   random_state=2020, solver='lbfgs', tol=0.0001, verbose=0,\n",
       "                   warm_start=False)"
      ]
     },
     "execution_count": 38,
     "metadata": {},
     "output_type": "execute_result"
    }
   ],
   "source": [
    "logit_model = LogisticRegression(\n",
    "    penalty=\"none\", solver=\"lbfgs\", random_state=RANDOM_SEED, max_iter=10000\n",
    ")\n",
    "logit_model.fit(X_train_scaled, y_train)"
   ]
  },
  {
   "cell_type": "markdown",
   "metadata": {},
   "source": [
    "* Accuracy on the training data:"
   ]
  },
  {
   "cell_type": "code",
   "execution_count": 39,
   "metadata": {},
   "outputs": [
    {
     "data": {
      "text/plain": [
       "0.8786358622565389"
      ]
     },
     "execution_count": 39,
     "metadata": {},
     "output_type": "execute_result"
    }
   ],
   "source": [
    "logit_model.score(X_train_scaled, y_train)"
   ]
  },
  {
   "cell_type": "markdown",
   "metadata": {},
   "source": [
    "* Accuracy on the test data:"
   ]
  },
  {
   "cell_type": "code",
   "execution_count": 40,
   "metadata": {},
   "outputs": [
    {
     "data": {
      "text/plain": [
       "0.8643368064481982"
      ]
     },
     "execution_count": 40,
     "metadata": {},
     "output_type": "execute_result"
    }
   ],
   "source": [
    "logit_model.score(X_test_scaled, y_test)"
   ]
  },
  {
   "cell_type": "markdown",
   "metadata": {},
   "source": [
    "* Accuracy on the lockbox data:"
   ]
  },
  {
   "cell_type": "code",
   "execution_count": 41,
   "metadata": {},
   "outputs": [
    {
     "data": {
      "text/plain": [
       "0.8618318637285811"
      ]
     },
     "execution_count": 41,
     "metadata": {},
     "output_type": "execute_result"
    }
   ],
   "source": [
    "logit_model.score(X_lockbox_scaled, y_lockbox)"
   ]
  },
  {
   "cell_type": "markdown",
   "metadata": {},
   "source": [
    "* AUC of training data:"
   ]
  },
  {
   "cell_type": "code",
   "execution_count": 44,
   "metadata": {
    "scrolled": true
   },
   "outputs": [
    {
     "data": {
      "text/plain": [
       "0.8541853840351695"
      ]
     },
     "execution_count": 44,
     "metadata": {},
     "output_type": "execute_result"
    }
   ],
   "source": [
    "y_train_pred = logit_model.predict_proba(X_train_scaled)\n",
    "roc_auc_score(y_train, y_train_pred[:,1])"
   ]
  },
  {
   "cell_type": "markdown",
   "metadata": {},
   "source": [
    "* AUC on test data:"
   ]
  },
  {
   "cell_type": "code",
   "execution_count": 45,
   "metadata": {},
   "outputs": [
    {
     "data": {
      "text/plain": [
       "0.8218309351702637"
      ]
     },
     "execution_count": 45,
     "metadata": {},
     "output_type": "execute_result"
    }
   ],
   "source": [
    "y_test_pred = logit_model.predict_proba(X_test_scaled)\n",
    "roc_auc_score(y_test, y_test_pred[:,1])"
   ]
  },
  {
   "cell_type": "markdown",
   "metadata": {},
   "source": [
    "* AUC on lockbox data:"
   ]
  },
  {
   "cell_type": "code",
   "execution_count": 46,
   "metadata": {},
   "outputs": [
    {
     "data": {
      "text/plain": [
       "0.8176589777160388"
      ]
     },
     "execution_count": 46,
     "metadata": {},
     "output_type": "execute_result"
    }
   ],
   "source": [
    "y_lockbox_pred = logit_model.predict_proba(X_lockbox_scaled)\n",
    "roc_auc_score(y_lockbox, y_lockbox_pred[:,1])"
   ]
  },
  {
   "cell_type": "markdown",
   "metadata": {},
   "source": [
    "### Fit an (L1, L2)-regularized model with penalty parameter chosen via cross-validation"
   ]
  },
  {
   "cell_type": "markdown",
   "metadata": {},
   "source": [
    "Choosing the regularization parameter for logistic regression"
   ]
  },
  {
   "cell_type": "markdown",
   "metadata": {},
   "source": [
    "With feature standardization"
   ]
  },
  {
   "cell_type": "markdown",
   "metadata": {},
   "source": [
    "**This takes multiple days to run:**"
   ]
  },
  {
   "cell_type": "code",
   "execution_count": 10,
   "metadata": {},
   "outputs": [
    {
     "name": "stderr",
     "output_type": "stream",
     "text": [
      "[Parallel(n_jobs=4)]: Using backend ThreadingBackend with 4 concurrent workers.\n"
     ]
    },
    {
     "name": "stdout",
     "output_type": "stream",
     "text": [
      "convergence after 804 epochs took 2225 seconds\n",
      "convergence after 771 epochs took 2527 seconds\n",
      "convergence after 694 epochs took 2594 seconds\n",
      "convergence after 849 epochs took 2664 seconds\n",
      "convergence after 834 epochs took 3110 seconds\n",
      "convergence after 1405 epochs took 3885 seconds\n",
      "convergence after 1375 epochs took 5718 seconds\n",
      "convergence after 1585 epochs took 7153 seconds\n",
      "convergence after 1985 epochs took 5484 seconds\n",
      "convergence after 1825 epochs took 5042 seconds\n",
      "convergence after 2941 epochs took 13178 seconds\n",
      "convergence after 1075 epochs took 2970 seconds\n",
      "convergence after 2664 epochs took 10403 seconds\n",
      "convergence after 381 epochs took 1052 seconds\n",
      "convergence after 118 epochs took 326 seconds\n",
      "convergence after 34 epochs took 94 seconds\n",
      "convergence after 10 epochs took 28 seconds\n",
      "convergence after 2 epochs took 6 seconds\n",
      "convergence after 2979 epochs took 12873 seconds\n",
      "convergence after 809 epochs took 2443 seconds\n",
      "convergence after 878 epochs took 2903 seconds\n",
      "convergence after 2313 epochs took 8631 seconds\n",
      "convergence after 2934 epochs took 12659 seconds\n",
      "convergence after 2709 epochs took 10891 seconds\n",
      "convergence after 1381 epochs took 5213 seconds\n",
      "convergence after 516 epochs took 1923 seconds\n",
      "convergence after 161 epochs took 579 seconds\n",
      "convergence after 45 epochs took 153 seconds\n",
      "convergence after 13 epochs took 43 seconds\n",
      "convergence after 4 epochs took 13 seconds\n",
      "convergence after 1725 epochs took 6761 seconds\n",
      "convergence after 804 epochs took 2221 seconds\n",
      "convergence after 3193 epochs took 12499 seconds\n",
      "convergence after 2033 epochs took 8391 seconds\n",
      "convergence after 653 epochs took 2466 seconds\n",
      "convergence after 202 epochs took 728 seconds\n",
      "convergence after 58 epochs took 199 seconds\n",
      "convergence after 15 epochs took 49 seconds\n",
      "convergence after 5 epochs took 16 seconds\n",
      "convergence after 1380 epochs took 3832 seconds\n",
      "convergence after 834 epochs took 3221 seconds\n",
      "convergence after 249 epochs took 902 seconds\n",
      "convergence after 69 epochs took 238 seconds\n",
      "convergence after 19 epochs took 63 seconds\n",
      "convergence after 6 epochs took 20 seconds\n",
      "convergence after 722 epochs took 2691 seconds\n",
      "convergence after 763 epochs took 2507 seconds\n",
      "convergence after 1765 epochs took 4873 seconds\n",
      "convergence after 1212 epochs took 4965 seconds\n",
      "convergence after 1611 epochs took 4446 seconds\n",
      "convergence after 1616 epochs took 7301 seconds\n",
      "convergence after 3115 epochs took 13702 seconds\n",
      "convergence after 903 epochs took 2490 seconds\n",
      "convergence after 345 epochs took 952 seconds\n",
      "convergence after 108 epochs took 298 seconds\n",
      "convergence after 31 epochs took 86 seconds\n",
      "convergence after 10 epochs took 27 seconds\n",
      "convergence after 2 epochs took 6 seconds\n",
      "convergence after 828 epochs took 2602 seconds\n",
      "convergence after 2254 epochs took 8838 seconds\n",
      "convergence after 922 epochs took 3426 seconds\n",
      "convergence after 2206 epochs took 9513 seconds\n",
      "convergence after 2837 epochs took 12385 seconds\n",
      "convergence after 992 epochs took 3927 seconds\n",
      "convergence after 311 epochs took 1144 seconds\n",
      "convergence after 87 epochs took 301 seconds\n",
      "convergence after 24 epochs took 80 seconds\n",
      "convergence after 6 epochs took 20 seconds\n",
      "convergence after 1948 epochs took 7292 seconds\n",
      "convergence after 825 epochs took 2498 seconds\n",
      "convergence after 1115 epochs took 4223 seconds\n",
      "convergence after 2180 epochs took 8796 seconds\n",
      "convergence after 970 epochs took 3187 seconds\n",
      "convergence after 429 epochs took 1594 seconds\n",
      "convergence after 2840 epochs took 12652 seconds\n",
      "convergence after 134 epochs took 477 seconds\n",
      "convergence after 40 epochs took 135 seconds\n",
      "convergence after 11 epochs took 36 seconds\n",
      "convergence after 3 epochs took 10 seconds\n",
      "convergence after 827 epochs took 2282 seconds\n",
      "convergence after 1384 epochs took 5432 seconds\n",
      "convergence after 523 epochs took 1970 seconds\n",
      "convergence after 1382 epochs took 3828 seconds\n",
      "convergence after 164 epochs took 587 seconds\n",
      "convergence after 47 epochs took 160 seconds\n",
      "convergence after 14 epochs took 46 seconds\n",
      "convergence after 3 epochs took 10 seconds\n",
      "convergence after 2633 epochs took 10227 seconds\n",
      "convergence after 719 epochs took 2681 seconds\n",
      "convergence after 2453 epochs took 10688 seconds\n",
      "convergence after 1846 epochs took 5094 seconds\n",
      "convergence after 1718 epochs took 4738 seconds\n",
      "convergence after 1624 epochs took 7348 seconds\n",
      "convergence after 1578 epochs took 6417 seconds\n",
      "convergence after 972 epochs took 2680 seconds\n",
      "convergence after 622 epochs took 2378 seconds\n",
      "convergence after 373 epochs took 1029 seconds\n",
      "convergence after 117 epochs took 323 seconds\n",
      "convergence after 198 epochs took 713 seconds\n",
      "convergence after 34 epochs took 93 seconds\n",
      "convergence after 9 epochs took 25 seconds\n",
      "convergence after 3 epochs took 9 seconds\n",
      "convergence after 56 epochs took 193 seconds\n",
      "convergence after 15 epochs took 49 seconds\n",
      "convergence after 5 epochs took 16 seconds\n",
      "convergence after 2839 epochs took 12475 seconds\n",
      "convergence after 776 epochs took 2562 seconds\n",
      "convergence after 851 epochs took 2676 seconds\n",
      "convergence after 2368 epochs took 9226 seconds\n",
      "convergence after 950 epochs took 3509 seconds\n",
      "convergence after 1643 epochs took 6919 seconds\n",
      "convergence after 1368 epochs took 5666 seconds\n",
      "convergence after 722 epochs took 2793 seconds\n",
      "convergence after 227 epochs took 823 seconds\n",
      "convergence after 65 epochs took 223 seconds\n",
      "convergence after 18 epochs took 60 seconds\n",
      "convergence after 5 epochs took 16 seconds\n",
      "convergence after 1954 epochs took 7347 seconds\n",
      "convergence after 812 epochs took 2455 seconds\n",
      "convergence after 1193 epochs took 4499 seconds\n",
      "convergence after 952 epochs took 3134 seconds\n",
      "convergence after 2880 epochs took 12874 seconds\n",
      "convergence after 482 epochs took 1795 seconds\n",
      "convergence after 149 epochs took 532 seconds\n",
      "convergence after 44 epochs took 150 seconds\n",
      "convergence after 12 epochs took 39 seconds\n",
      "convergence after 3 epochs took 9 seconds\n",
      "convergence after 2815 epochs took 12202 seconds\n",
      "convergence after 829 epochs took 2285 seconds\n",
      "convergence after 1356 epochs took 3752 seconds\n",
      "convergence after 2959 epochs took 11590 seconds\n",
      "convergence after 2256 epochs took 9103 seconds\n",
      "convergence after 2647 epochs took 11399 seconds\n",
      "convergence after 1774 epochs took 4889 seconds\n",
      "convergence after 1356 epochs took 5312 seconds\n",
      "convergence after 1637 epochs took 4511 seconds\n",
      "convergence after 1524 epochs took 6198 seconds\n",
      "convergence after 588 epochs took 2226 seconds\n",
      "convergence after 186 epochs took 672 seconds\n",
      "convergence after 54 epochs took 185 seconds\n",
      "convergence after 15 epochs took 50 seconds\n",
      "convergence after 4 epochs took 13 seconds\n",
      "convergence after 927 epochs took 2556 seconds\n",
      "convergence after 357 epochs took 984 seconds\n",
      "convergence after 111 epochs took 306 seconds\n",
      "convergence after 33 epochs took 91 seconds\n",
      "convergence after 9 epochs took 25 seconds\n",
      "convergence after 2 epochs took 5 seconds\n",
      "convergence after 684 epochs took 2619 seconds\n",
      "convergence after 220 epochs took 797 seconds\n",
      "convergence after 63 epochs took 217 seconds\n",
      "convergence after 18 epochs took 59 seconds\n",
      "convergence after 5 epochs took 16 seconds\n",
      "convergence after 723 epochs took 2706 seconds\n",
      "convergence after 2904 epochs took 12772 seconds\n",
      "convergence after 757 epochs took 2491 seconds\n",
      "convergence after 840 epochs took 2643 seconds\n",
      "convergence after 872 epochs took 3208 seconds\n",
      "convergence after 1280 epochs took 5244 seconds\n",
      "convergence after 1668 epochs took 7528 seconds\n",
      "convergence after 1649 epochs took 6983 seconds\n",
      "convergence after 745 epochs took 2888 seconds\n",
      "convergence after 253 epochs took 924 seconds\n",
      "convergence after 71 epochs took 247 seconds\n",
      "convergence after 20 epochs took 66 seconds\n",
      "convergence after 6 epochs took 19 seconds\n",
      "convergence after 818 epochs took 2471 seconds\n",
      "convergence after 2208 epochs took 8635 seconds\n",
      "convergence after 920 epochs took 3033 seconds\n",
      "convergence after 3037 epochs took 13606 seconds\n",
      "convergence after 2994 epochs took 12986 seconds\n",
      "convergence after 1959 epochs took 7350 seconds\n",
      "convergence after 1122 epochs took 4219 seconds\n",
      "convergence after 2218 epochs took 8900 seconds\n",
      "convergence after 444 epochs took 1647 seconds\n",
      "convergence after 2999 epochs took 11754 seconds\n",
      "convergence after 137 epochs took 488 seconds\n"
     ]
    },
    {
     "name": "stdout",
     "output_type": "stream",
     "text": [
      "convergence after 40 epochs took 134 seconds\n",
      "convergence after 12 epochs took 39 seconds\n",
      "convergence after 3 epochs took 10 seconds\n",
      "convergence after 2674 epochs took 11590 seconds\n",
      "convergence after 833 epochs took 2297 seconds\n",
      "convergence after 1285 epochs took 5005 seconds\n",
      "convergence after 537 epochs took 2018 seconds\n",
      "convergence after 169 epochs took 606 seconds\n",
      "convergence after 48 epochs took 164 seconds\n",
      "convergence after 1383 epochs took 3814 seconds\n",
      "convergence after 14 epochs took 46 seconds\n",
      "convergence after 3 epochs took 9 seconds\n",
      "convergence after 1456 epochs took 5883 seconds\n",
      "convergence after 680 epochs took 2525 seconds\n",
      "convergence after 626 epochs took 2380 seconds\n",
      "convergence after 198 epochs took 714 seconds\n",
      "convergence after 57 epochs took 195 seconds\n",
      "convergence after 15 epochs took 49 seconds\n",
      "convergence after 5 epochs took 16 seconds\n",
      "convergence after 1728 epochs took 4768 seconds\n",
      "convergence after 2793 epochs took 12355 seconds\n",
      "convergence after 766 epochs took 2525 seconds\n",
      "convergence after 1458 epochs took 4022 seconds\n",
      "convergence after 1490 epochs took 6723 seconds\n",
      "convergence after 814 epochs took 2245 seconds\n",
      "convergence after 307 epochs took 847 seconds\n",
      "convergence after 1337 epochs took 5480 seconds\n",
      "convergence after 95 epochs took 262 seconds\n",
      "convergence after 27 epochs took 75 seconds\n",
      "convergence after 8 epochs took 22 seconds\n",
      "convergence after 2 epochs took 5 seconds\n",
      "convergence after 1643 epochs took 6943 seconds\n",
      "convergence after 820 epochs took 2575 seconds\n",
      "convergence after 695 epochs took 2676 seconds\n",
      "convergence after 230 epochs took 834 seconds\n",
      "convergence after 65 epochs took 224 seconds\n",
      "convergence after 18 epochs took 60 seconds\n",
      "convergence after 6 epochs took 19 seconds\n",
      "convergence after 2306 epochs took 9002 seconds\n",
      "convergence after 1043 epochs took 3856 seconds\n",
      "convergence after 854 epochs took 2588 seconds\n",
      "convergence after 971 epochs took 3222 seconds\n",
      "convergence after 2534 epochs took 11029 seconds\n",
      "convergence after 1802 epochs took 6793 seconds\n",
      "convergence after 1005 epochs took 3784 seconds\n",
      "convergence after 441 epochs took 1639 seconds\n",
      "convergence after 2648 epochs took 11870 seconds\n",
      "convergence after 140 epochs took 500 seconds\n",
      "convergence after 40 epochs took 136 seconds\n",
      "convergence after 11 epochs took 35 seconds\n",
      "convergence after 3 epochs took 10 seconds\n",
      "convergence after 2203 epochs took 8980 seconds\n",
      "convergence after 2789 epochs took 10940 seconds\n",
      "convergence after 1183 epochs took 4563 seconds\n",
      "convergence after 555 epochs took 2064 seconds\n",
      "convergence after 183 epochs took 652 seconds\n",
      "convergence after 53 epochs took 179 seconds\n",
      "convergence after 14 epochs took 45 seconds\n",
      "convergence after 5 epochs took 16 seconds\n",
      "convergence after 2547 epochs took 10886 seconds\n",
      "convergence after 2956 epochs took 12685 seconds\n",
      "convergence after 1289 epochs took 5085 seconds\n",
      "convergence after 655 epochs took 2425 seconds\n",
      "convergence after 226 epochs took 795 seconds\n",
      "convergence after 65 epochs took 217 seconds\n",
      "convergence after 18 epochs took 58 seconds\n",
      "convergence after 5 epochs took 15 seconds\n",
      "convergence after 1412 epochs took 5732 seconds\n",
      "convergence after 750 epochs took 2789 seconds\n",
      "convergence after 271 epochs took 954 seconds\n",
      "convergence after 78 epochs took 260 seconds\n",
      "convergence after 22 epochs took 70 seconds\n",
      "convergence after 6 epochs took 19 seconds\n"
     ]
    },
    {
     "name": "stderr",
     "output_type": "stream",
     "text": [
      "[Parallel(n_jobs=4)]: Done  25 out of  25 | elapsed: 3793.0min finished\n"
     ]
    },
    {
     "data": {
      "text/plain": [
       "LogisticRegressionCV(Cs=array([1.00000000e-03, 3.59381366e-03, 1.29154967e-02, 4.64158883e-02,\n",
       "       1.66810054e-01, 5.99484250e-01, 2.15443469e+00, 7.74263683e+00,\n",
       "       2.78255940e+01, 1.00000000e+02]),\n",
       "                     class_weight=None,\n",
       "                     cv=StratifiedKFold(n_splits=5, random_state=2020, shuffle=True),\n",
       "                     dual=False, fit_intercept=True, intercept_scaling=1.0,\n",
       "                     l1_ratios=array([0.  , 0.25, 0.5 , 0.75, 1.  ]),\n",
       "                     max_iter=10000, multi_class='warn', n_jobs=4,\n",
       "                     penalty='elasticnet', random_state=None, refit=True,\n",
       "                     scoring='roc_auc', solver='saga', tol=0.0001, verbose=1)"
      ]
     },
     "execution_count": 10,
     "metadata": {},
     "output_type": "execute_result"
    }
   ],
   "source": [
    "skf = StratifiedKFold(n_splits=5, shuffle=True, random_state=RANDOM_SEED)\n",
    "\n",
    "c_values = np.logspace(-3, 2, 10)\n",
    "l1_ratios = np.linspace(0, 1, 5)\n",
    "\n",
    "logit_searcher = LogisticRegressionCV(\n",
    "    Cs=c_values, l1_ratios=l1_ratios, penalty=\"elasticnet\", solver=\"saga\",\n",
    "    cv=skf, verbose=1, n_jobs=4, max_iter=10000, scoring=\"roc_auc\", refit=True\n",
    ")\n",
    "logit_searcher.fit(X_train_scaled, y_train)"
   ]
  },
  {
   "cell_type": "markdown",
   "metadata": {},
   "source": [
    "Save the model:"
   ]
  },
  {
   "cell_type": "code",
   "execution_count": 12,
   "metadata": {},
   "outputs": [],
   "source": [
    "# save the model to disk\n",
    "pickle.dump(logit_searcher, open('elastic_net.sav', 'wb'))"
   ]
  },
  {
   "cell_type": "markdown",
   "metadata": {},
   "source": [
    "Load the model from disk:"
   ]
  },
  {
   "cell_type": "code",
   "execution_count": 13,
   "metadata": {},
   "outputs": [],
   "source": [
    "# load the model from disk\n",
    "elastic_net = pickle.load(open('elastic_net.sav', 'rb'))"
   ]
  },
  {
   "cell_type": "code",
   "execution_count": 28,
   "metadata": {},
   "outputs": [
    {
     "data": {
      "text/plain": [
       "(5, 10, 5)"
      ]
     },
     "execution_count": 28,
     "metadata": {},
     "output_type": "execute_result"
    }
   ],
   "source": [
    "logit_searcher.scores_[1].shape"
   ]
  },
  {
   "cell_type": "code",
   "execution_count": 26,
   "metadata": {},
   "outputs": [
    {
     "data": {
      "text/plain": [
       "Text(0, 0.5, 'Mean CV-accuracy')"
      ]
     },
     "execution_count": 26,
     "metadata": {},
     "output_type": "execute_result"
    },
    {
     "data": {
      "image/png": "[encoded data removed]",
      "text/plain": [
       "<Figure size 432x288 with 1 Axes>"
      ]
     },
     "metadata": {
      "needs_background": "light"
     },
     "output_type": "display_data"
    }
   ],
   "source": [
    "plt.plot(c_values, np.mean(elastic_net.scores_[1], axis=(0, 2)))\n",
    "plt.xlabel('C')\n",
    "plt.ylabel('Mean CV-accuracy')"
   ]
  },
  {
   "cell_type": "code",
   "execution_count": 29,
   "metadata": {},
   "outputs": [
    {
     "data": {
      "text/plain": [
       "Text(0, 0.5, 'Mean CV-accuracy')"
      ]
     },
     "execution_count": 29,
     "metadata": {},
     "output_type": "execute_result"
    },
    {
     "data": {
      "image/png": "[encoded data removed]",
      "text/plain": [
       "<Figure size 432x288 with 1 Axes>"
      ]
     },
     "metadata": {
      "needs_background": "light"
     },
     "output_type": "display_data"
    }
   ],
   "source": [
    "plt.plot(l1_ratios, np.mean(elastic_net.scores_[1], axis=(0, 1)))\n",
    "plt.xlabel('l1 ratio')\n",
    "plt.ylabel('Mean CV-accuracy')"
   ]
  },
  {
   "cell_type": "code",
   "execution_count": 37,
   "metadata": {
    "scrolled": true
   },
   "outputs": [
    {
     "name": "stdout",
     "output_type": "stream",
     "text": [
      "0.046415888336127795 0.5\n"
     ]
    }
   ],
   "source": [
    "optim_c = elastic_net.C_[0]\n",
    "optim_l1 = elastic_net.l1_ratio_[0]\n",
    "\n",
    "print(optim_c, optim_l1)"
   ]
  },
  {
   "cell_type": "markdown",
   "metadata": {},
   "source": [
    "* AUC of training data:"
   ]
  },
  {
   "cell_type": "code",
   "execution_count": 46,
   "metadata": {
    "scrolled": true
   },
   "outputs": [
    {
     "data": {
      "text/plain": [
       "0.8532523657343789"
      ]
     },
     "execution_count": 46,
     "metadata": {},
     "output_type": "execute_result"
    }
   ],
   "source": [
    "y_train_pred = elastic_net.predict_proba(X_train_scaled)\n",
    "roc_auc_score(y_train, y_train_pred[:,1])"
   ]
  },
  {
   "cell_type": "markdown",
   "metadata": {},
   "source": [
    "* AUC on test data:"
   ]
  },
  {
   "cell_type": "code",
   "execution_count": 47,
   "metadata": {},
   "outputs": [
    {
     "data": {
      "text/plain": [
       "0.8239129163928107"
      ]
     },
     "execution_count": 47,
     "metadata": {},
     "output_type": "execute_result"
    }
   ],
   "source": [
    "y_test_pred = elastic_net.predict_proba(X_test_scaled)\n",
    "roc_auc_score(y_test, y_test_pred[:,1])"
   ]
  },
  {
   "cell_type": "markdown",
   "metadata": {},
   "source": [
    "* AUC on lockbox data:"
   ]
  },
  {
   "cell_type": "code",
   "execution_count": 48,
   "metadata": {},
   "outputs": [
    {
     "data": {
      "text/plain": [
       "0.8197871767956038"
      ]
     },
     "execution_count": 48,
     "metadata": {},
     "output_type": "execute_result"
    }
   ],
   "source": [
    "y_lockbox_pred = elastic_net.predict_proba(X_lockbox_scaled)\n",
    "roc_auc_score(y_lockbox, y_lockbox_pred[:,1])"
   ]
  },
  {
   "cell_type": "markdown",
   "metadata": {},
   "source": [
    "## XGBoost"
   ]
  },
  {
   "cell_type": "code",
   "execution_count": 53,
   "metadata": {},
   "outputs": [
    {
     "data": {
      "text/plain": [
       "'/app/RSNA_ICH_data_example/feature_extraction'"
      ]
     },
     "execution_count": 53,
     "metadata": {},
     "output_type": "execute_result"
    }
   ],
   "source": [
    "os.getcwd()"
   ]
  }
 ],
 "metadata": {
  "kernelspec": {
   "display_name": "Python 3",
   "language": "python",
   "name": "python3"
  },
  "language_info": {
   "codemirror_mode": {
    "name": "ipython",
    "version": 3
   },
   "file_extension": ".py",
   "mimetype": "text/x-python",
   "name": "python",
   "nbconvert_exporter": "python",
   "pygments_lexer": "ipython3",
   "version": "3.6.9"
  }
 },
 "nbformat": 4,
 "nbformat_minor": 4
}
